{
 "cells": [
  {
   "cell_type": "markdown",
   "metadata": {},
   "source": [
    "<div><img src=\"https://www.rwth-aachen.de/global/show_picture.asp?id=aaaaaaaaaaagazb\" style=\"float: right; height: 5em;\"></div>\n",
    "\n",
    "# Schüleruni - Audio-Visual Computer Engineering\n",
    "\n",
    "## Jupyter Quick Start\n",
    "\n",
    "* Zum Ausführen aller Cells eines Notebooks: Im Menü: Run <span class=\"fa-chevron-right fa\"></span> Run All Cells\n",
    "* Zum Neustart: <span class=\"fa-refresh fa\"></span>-Button\n",
    "* Zum Ausführen einer einzelnen Cell: <span class=\"fa-play fa\"></span> Run-Button\n",
    "\n",
    "## Inhaltsverzeichnis\n",
    "\n",
    "* [Projekt Schrifterkennung (IENT)](IENT/Aufgaben/index.ipynb)\n",
    "* [Projekt Binauralsynthese (ITA)](ITA/Aufgaben/index.ipynb)\n",
    "\n",
    "## Mitwirkende\n",
    "\n",
    "* [Christian Rohlfing](http://www.ient.rwth-aachen.de/cms/c_rohlfing/)\n",
    "* [Jens Schneider](http://www.ient.rwth-aachen.de/cms/j_schneider/)\n",
    "* [Maria Meyer](http://www.ient.rwth-aachen.de/cms/m_meyer/)\n",
    "* [Martin Strauch](https://www.lfb.rwth-aachen.de/de/institute/team/strauch/)\n",
    "* [Marco Berzborn](https://www.akustik.rwth-aachen.de/cms/Technische-Akustik/Das-Institut/Team/TA-Team/~mbrw/Marco-Berzborn/)"
   ]
  },
  {
   "cell_type": "markdown",
   "metadata": {},
   "source": [
    "This notebook is provided as [Open Educational Resource](https://en.wikipedia.org/wiki/Open_educational_resources) (OER). Feel free to use the notebook for your own purposes. The code is licensed under the [MIT license](https://opensource.org/licenses/MIT)."
   ]
  }
 ],
 "metadata": {
  "kernelspec": {
   "display_name": "Python 3",
   "language": "python",
   "name": "python3"
  },
  "language_info": {
   "codemirror_mode": {
    "name": "ipython",
    "version": 3
   },
   "file_extension": ".py",
   "mimetype": "text/x-python",
   "name": "python",
   "nbconvert_exporter": "python",
   "pygments_lexer": "ipython3",
   "version": "3.7.6"
  }
 },
 "nbformat": 4,
 "nbformat_minor": 4
}
