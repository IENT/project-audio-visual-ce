{
 "cells": [
  {
   "cell_type": "markdown",
   "metadata": {},
   "source": [
    "<div>\n",
    "    <img src=\"http://www.ient.rwth-aachen.de/cms/uploads/images/rwth_ient_logo@2x.png\" style=\"float: right;height: 5em;\">\n",
    "</div>"
   ]
  },
  {
   "cell_type": "code",
   "execution_count": null,
   "metadata": {
    "deletable": false,
    "editable": false,
    "jupyter": {
     "source_hidden": true
    }
   },
   "outputs": [],
   "source": [
    "# Copyright 2019 Institut für Nachrichtentechnik, RWTH Aachen University\n",
    "import sys\n",
    "import numpy as np\n",
    "import math\n",
    "import matplotlib.pyplot as plt\n",
    "import cv2\n",
    "import pylab as pl\n",
    "\n",
    "\n",
    "#iPython Imports\n",
    "from IPython.display import set_matplotlib_formats\n",
    "set_matplotlib_formats('pdf', 'png')\n",
    "\n",
    "#Scikit-Image Imports\n",
    "from skimage.filters import threshold_otsu\n",
    "from skimage.morphology import label, square,binary_erosion, binary_dilation\n",
    "from skimage.measure import regionprops\n",
    "from skimage.io import imread\n",
    "from skimage.color import rgb2gray\n",
    "from skimage.transform import resize"
   ]
  },
  {
   "cell_type": "markdown",
   "metadata": {},
   "source": [
    "# Labelmatrix\n",
    "Hier ist ein Beispiel für das resultat eines Labeling dargestellt.  \n",
    "Die Hintergrundregion(=0) ist grau dargestellt, die zusammenhängenden Vordergrundregionen (=1, 2) schwarz. Die Objektregionen werden in aufsteigender Reihenfolge durchnummeriert."
   ]
  },
  {
   "cell_type": "code",
   "execution_count": null,
   "metadata": {
    "deletable": false,
    "editable": false,
    "jupyter": {
     "source_hidden": true
    }
   },
   "outputs": [],
   "source": [
    "%matplotlib inline\n",
    "img = imread(\"Bilder/Buchstaben.png\")\n",
    "\n",
    "img_gray = rgb2gray(img)\n",
    "thresh_otsu = threshold_otsu(img_gray)\n",
    "img_bin = img_gray>thresh_otsu\n",
    "\n",
    "img_new = ~img_bin\n",
    "img_new = img_new/255.\n",
    "\n",
    "kernel1 = square(3)\n",
    "kernel3 = square(10)\n",
    "img_erode1 = binary_erosion(img_new,kernel1)\n",
    "img_dil3 = binary_dilation(img_erode1, kernel3)\n",
    "\n",
    "img_label = label(img_dil3)\n",
    "\n",
    "regions = regionprops(img_label)\n",
    "\n",
    "    ## Filtern der nötigen Parameter zur Speicherung der Bounding-Box-Koordinaten\n",
    "cols = len(regions)\n",
    "rows = 4 # Da ein Rechteck 4 Eckpunktkoordinaten besitzt\n",
    "elemtens = cols*rows\n",
    "rectArray = np.arange(elemtens).reshape(rows,cols)\n",
    "\n",
    "\n",
    "    ## Speichere die Koordinaten für jede Region gefunden in regionprops und erhöhe gleichzeitig i\n",
    "for region, i in zip(regions, range(cols)):\n",
    "    minr, minc, maxr, maxc = region.bbox # Struktur der jeweiligen Bounding Box [Xmin, Xmax, Ymin, Ymax]\n",
    "    rectArray[0][i]= minr\n",
    "    rectArray[1][i]= minc\n",
    "    rectArray[2][i]= maxr\n",
    "    rectArray[3][i]= maxc\n",
    "    \n",
    "img_cropped = img_dil3[rectArray[0][1]-4:rectArray[2][1]+4, rectArray[1][0]-4:rectArray[3][1]+4]\n",
    "\n",
    "\n",
    "img_cropped = resize(img_cropped, (50, 80))\n",
    "img_cropped_label = label(img_cropped)\n",
    "\n",
    "\n",
    "fig, ax = plt.subplots(1,1)\n",
    "ax.imshow(img_cropped_label, cmap='gray');\n",
    "ax.set_axis_off();\n",
    "ax.set_title('labeled image');"
   ]
  },
  {
   "cell_type": "code",
   "execution_count": null,
   "metadata": {
    "deletable": false,
    "editable": false,
    "jupyter": {
     "source_hidden": true
    }
   },
   "outputs": [],
   "source": [
    "#from IPython.display import HTML, display\n",
    "#\n",
    "#def matrix_to_table(X, header=None):\n",
    "#    if header is None:\n",
    "#        header = np.arange(X.shape[1])\n",
    "#        \n",
    "#    header_row = '<th></th><th>{}</th>'.format('</th><th>'.join(str(_) for _ in header))\n",
    "#    \n",
    "#    display(HTML(\n",
    "#       '<table><tr>{}</tr><tr>{}</tr></table>'.format(header_row,\n",
    "#           '</tr><tr>'.join(\n",
    "#               '<th>{}</th><td>{}</td>'.format(str(i),\n",
    "#                   '</td><td>'.join(str(_) for _ in row)) for i,row in enumerate(X) \n",
    "#            )#join\n",
    "#        )#format\n",
    "#    ))\n",
    "#\n",
    "#matrix_to_table(img_cropped_label.astype(int))\n",
    "\n",
    "\n",
    "\n",
    "# Hierher, modifiziert, um 0-Werte grau darzustellen: https://stackoverflow.com/questions/19622407/2d-numpy-array-to-html-table\n",
    "class PrettyArray(np.ndarray):\n",
    "    def _repr_html_(self):\n",
    "        html = [f\"<table><tr><th>\"]\n",
    "        rows, columns = self.shape\n",
    "        html += (f\"<th>{j}\" for j in range(columns))\n",
    "        for i in range(rows):\n",
    "            html.append(f\"<tr><th>{i}\")\n",
    "            for j in range(columns):\n",
    "                val = self[i, j]\n",
    "                if val == 0:\n",
    "                    html.append(\"<td style='color:lightgray;'>\")\n",
    "                else:\n",
    "                    html.append(\"<td>\")\n",
    "                html.append((f\"{val:.2f}\" if self.dtype == float else f\"{val}\"))\n",
    "        html.append(\"</table>\")\n",
    "        return \"\".join(html)\n",
    "    \n",
    "img_cropped_label.astype(int).view(PrettyArray)"
   ]
  }
 ],
 "metadata": {
  "kernelspec": {
   "display_name": "Python 3",
   "language": "python",
   "name": "python3"
  },
  "language_info": {
   "codemirror_mode": {
    "name": "ipython",
    "version": 3
   },
   "file_extension": ".py",
   "mimetype": "text/x-python",
   "name": "python",
   "nbconvert_exporter": "python",
   "pygments_lexer": "ipython3",
   "version": "3.7.6"
  }
 },
 "nbformat": 4,
 "nbformat_minor": 4
}
