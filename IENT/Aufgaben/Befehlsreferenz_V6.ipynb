{
 "cells": [
  {
   "cell_type": "markdown",
   "metadata": {},
   "source": [
    "<div>\n",
    "    <img src=\"http://www.ient.rwth-aachen.de/cms/uploads/images/rwth_ient_logo@2x.png\" style=\"float: right;height: 5em;\">\n",
    "</div>"
   ]
  },
  {
   "cell_type": "markdown",
   "metadata": {},
   "source": [
    "# Befehlsreferenz"
   ]
  },
  {
   "cell_type": "markdown",
   "metadata": {},
   "source": [
    "## Allgemeines\n",
    "\n",
    "__[~](https://stackoverflow.com/questions/8305199/the-tilde-operator-in-python)__: \"Nicht\"-Operator\n",
    "\n",
    "## Numpy-Arrays\n",
    "\n",
    "__[np.astype()](https://numpy.org/doc/stable/reference/generated/numpy.ndarray.astype.html)__: Ändert den Datentyp der Einträge eines Numpy-Arrays.\n",
    "\n",
    "__[np.ravel()](https://numpy.org/doc/stable/reference/generated/numpy.ravel.html)__: Reiht alle Einträge eines n-dimensionales Array in einen Vektor (1D-Array) auf.\n",
    "\n",
    "__[np.sum()](https://numpy.org/doc/stable/reference/generated/numpy.sum.html)__: Summiert die Elemente eines Arrays entlang einer Achse.\n",
    "\n",
    "__[np.zeros()](https://numpy.org/doc/stable/reference/generated/numpy.zeros.html)__: Erstellt ein Numpy-Array indem alle Einträge 0 sind. Beispiel zur Erzeugung eines Arrays der Dimension $2\\times 3$: *array = np.zeros((2,3))*"
   ]
  },
  {
   "cell_type": "markdown",
   "metadata": {},
   "source": [
    "## Bildverarbeitung\n",
    "\n",
    "__[binary_erosion()](https://scikit-image.org/docs/dev/api/skimage.morphology.html#skimage.morphology.binary_erosion)__: Führt eine Erosion auf einem Binärbild aus.\n",
    "\n",
    "__[binary_dilation()](https://scikit-image.org/docs/dev/api/skimage.morphology.html#skimage.morphology.binary_dilation)__: Führt eine Dilatation auf einem Binärbild aus.\n",
    "\n",
    "__[binary_fill_holes()](https://scikit-image.org/docs/dev/api/skimage.color.html#skimage.color.rgb2gray)__: Schließt Löcher in einem Binärbild.\n",
    "\n",
    "__[disk()](https://scikit-image.org/docs/dev/api/skimage.morphology.html#skimage.morphology.disk)__: Erstellt ein Strukturelement der Form 'Kreis'\n",
    "\n",
    "__[label()](https://scikit-image.org/docs/stable/api/skimage.measure.html#skimage.measure.label)__:  Findet zusammenhängende Gebiete in einem übergebenen Binärbild und nummeriert diese durch.\n",
    "\n",
    "__[regionprops()](https://scikit-image.org/docs/dev/api/skimage.measure.html#skimage.measure.regionprops)__: Berechnet die charakteristischen Eigenschaften von erkannten Objekten in einem Labelbild. Ein Beispiel folgt weiter unten.\n",
    "\n",
    "__[rgb2gray()](https://scikit-image.org/docs/dev/api/skimage.color.html#skimage.color.rgb2gray)__: Errechnet die Helligkeit jedes Pixels aus einem RGB-Bildern.\n",
    "\n",
    "__[square()](https://scikit-image.org/docs/dev/api/skimage.morphology.html#skimage.morphology.square)__: Erstellt ein Strukturelement der Form 'Quadrat'.\n",
    " \n",
    "__[threshold_otsu()](https://scikit-image.org/docs/dev/api/skimage.filters.html#skimage.filters.threshold_otsu)__: Berechnet die Binarisierungsgrenze eines Graustufenbildes nach der Methode von Otsu."
   ]
  },
  {
   "cell_type": "markdown",
   "metadata": {},
   "source": [
    "## Darstellung von Graphen, Plots, Bildern:\n",
    "\n",
    "__[imread()](https://scikit-image.org/docs/dev/api/skimage.io.html)__: Liest ein Bild von einem gegebenen Pfad ein\n",
    "\n",
    "__[imshow()](https://matplotlib.org/3.1.1/api/_as_gen/matplotlib.pyplot.imshow.html)__: Zeigt das übergebene Bild an\n",
    "\n",
    "__[axis.hist()](https://matplotlib.org/api/_as_gen/matplotlib.axes.Axes.hist.html)__: Berechnet und plottet das Histogramm eines Bildes in ein gegebenes Koordinatensystem *axis*, bspw. *ax.hist()*\n"
   ]
  },
  {
   "cell_type": "markdown",
   "metadata": {},
   "source": [
    "## regionprops() Beispiel:"
   ]
  },
  {
   "cell_type": "markdown",
   "metadata": {},
   "source": [
    "Lade ein Bild..."
   ]
  },
  {
   "cell_type": "code",
   "execution_count": 2,
   "metadata": {
    "jupyter": {
     "source_hidden": true
    }
   },
   "outputs": [
    {
     "data": {
      "image/png": "[encoded data removed]",
      "text/plain": [
       "<Figure size 720x720 with 2 Axes>"
      ]
     },
     "metadata": {
      "needs_background": "light"
     },
     "output_type": "display_data"
    }
   ],
   "source": [
    "# Lade nötige Bibliotheken\n",
    "import matplotlib.pyplot as plt\n",
    "from skimage.morphology import label\n",
    "from skimage.io import imread, imshow\n",
    "from skimage.color import rgb2gray\n",
    "from skimage.filters import threshold_otsu\n",
    "from skimage.measure import regionprops\n",
    "# Lade Bild und verarbeite es\n",
    "img = imread('Bilder/Buchstaben_Teil2.bmp')\n",
    "img_gray = rgb2gray(img)\n",
    "img_bin = img_gray > threshold_otsu(img_gray)\n",
    "img_inv = ~img_bin\n",
    "img_labeled = label(img_inv)\n",
    "\n",
    "# Plotte Bild\n",
    "fig, ax = plt.subplots(1,2,figsize=(10,10))\n",
    "ax[0].imshow(img, cmap='gray');\n",
    "ax[0].set_axis_off();\n",
    "ax[0].set_title('Buchstaben');\n",
    "ax[1].imshow(img_labeled, cmap='gray');\n",
    "ax[1].set_axis_off();\n",
    "ax[1].set_title('Buchstaben gelabelt');"
   ]
  },
  {
   "cell_type": "markdown",
   "metadata": {},
   "source": [
    "Verwende regionrops(), um charakteristische Eigenschaften des Bildes zu extrahieren..."
   ]
  },
  {
   "cell_type": "code",
   "execution_count": 3,
   "metadata": {},
   "outputs": [],
   "source": [
    "regions = regionprops(img_labeled)"
   ]
  },
  {
   "cell_type": "markdown",
   "metadata": {},
   "source": [
    "Diese Funktion gibt eine Liste mit Eigenschaften jedes gelabelten Gebiets zurück"
   ]
  },
  {
   "cell_type": "code",
   "execution_count": 4,
   "metadata": {},
   "outputs": [
    {
     "data": {
      "text/plain": [
       "list"
      ]
     },
     "execution_count": 4,
     "metadata": {},
     "output_type": "execute_result"
    }
   ],
   "source": [
    "type(regions)"
   ]
  },
  {
   "cell_type": "markdown",
   "metadata": {},
   "source": [
    "Die Länge der Liste, also die Länge von _regions_ gibt an, wie viele zusammenhängende Gebiete im Bild gefunden wurden, hier also 7..."
   ]
  },
  {
   "cell_type": "code",
   "execution_count": 5,
   "metadata": {},
   "outputs": [
    {
     "name": "stdout",
     "output_type": "stream",
     "text": [
      "7\n"
     ]
    }
   ],
   "source": [
    "print(len(regions))"
   ]
  },
  {
   "cell_type": "markdown",
   "metadata": {},
   "source": [
    "Um auf die Eigenschaften eines bestimmten erkannten Gebiets innerhalb des Bildes zuzugreifen, hier zum Beispiel auf das erste erkannte Gebiet, greift man auf die Liste _regions_ mittels Index zu."
   ]
  },
  {
   "cell_type": "code",
   "execution_count": 44,
   "metadata": {},
   "outputs": [
    {
     "data": {
      "text/plain": [
       "<skimage.measure._regionprops.RegionProperties at 0x7f8681f81e10>"
      ]
     },
     "execution_count": 44,
     "metadata": {},
     "output_type": "execute_result"
    }
   ],
   "source": [
    "regions[0]"
   ]
  },
  {
   "cell_type": "markdown",
   "metadata": {},
   "source": [
    "Um nun eine konkrete Eigenschaft des gewählten Objektes zuzugreifen, wird der Punkt-Operator verwendet.\n",
    "Hier wird zum Beispiel auf die Bounding-Box-Koordinaten des erkannten Objektes zugegriffen."
   ]
  },
  {
   "cell_type": "code",
   "execution_count": 46,
   "metadata": {},
   "outputs": [
    {
     "name": "stdout",
     "output_type": "stream",
     "text": [
      "(16, 27, 87, 90)\n"
     ]
    }
   ],
   "source": [
    "minr, minc, maxr, maxc = regions[0].bbox # speichere die 4 zurückgegebenen Koordinaten der Bounding-Box\n",
    "print(regions[0].bbox)"
   ]
  }
 ],
 "metadata": {
  "kernelspec": {
   "display_name": "Python 3",
   "language": "python",
   "name": "python3"
  },
  "language_info": {
   "codemirror_mode": {
    "name": "ipython",
    "version": 3
   },
   "file_extension": ".py",
   "mimetype": "text/x-python",
   "name": "python",
   "nbconvert_exporter": "python",
   "pygments_lexer": "ipython3",
   "version": "3.7.6"
  }
 },
 "nbformat": 4,
 "nbformat_minor": 4
}
