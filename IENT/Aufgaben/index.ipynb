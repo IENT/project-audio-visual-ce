{
 "cells": [
  {
   "cell_type": "markdown",
   "metadata": {},
   "source": [
    "<div>\n",
    "    <img src=\"http://www.ient.rwth-aachen.de/cms/uploads/images/rwth_ient_logo@2x.png\" style=\"float: right;height: 5em;\">\n",
    "</div>\n",
    "\n",
    "# Schüleruni - Audio-Visual Computer Engineering: (Handwritten) Digit Recognition\n",
    "Dieses Projekt besteht aus zwei Teilen und soll einen Einblick in die Thematik der Mustererkennung, genauer der Schrifterkennung, in Bildern geben. Bearbeiten Sie die beiden Teile in der vorgegebenen Reihenfolge. Das Projekt ist in Python programmiert, die wichtigsten Funktionen finden Sie in der [__Befehlsreferenz__](Befehlsreferenz_Schueleruni.ipynb).\n",
    "\n",
    "## Inhaltsverzeichnis\n",
    "\n",
    "\n",
    "* __Teil 1:__ [__Klassifizierung von Objekten durch Formmerkmale mittels klassischer und morphologischer Bildverarbeitung__](Teil_1.ipynb) <!--- Verwendung von Funktionen der Scikit-Image und Matplotlib-Python Bibliothek zur Bildverarbeitung -->\n",
    "* __Teil 2:__ [__Klassifizierung von Objekten mittels neuronalen Netzen am Beispiel von handschriftlichen Zahlen__](Teil_2.ipynb)\n",
    "\n",
    "\n",
    "\n",
    "\n",
    "## Jupyter Quick Start\n",
    "\n",
    "* Zum Neustart: Kernel <span class=\"fa-chevron-right fa\"></span> Restart Kernel and Run up to Slected Cell\n",
    "* Zum Ausführen einer einzelnen Cell: <span class=\"fa-play fa\"></span> Run-Button"
   ]
  }
 ],
 "metadata": {
  "kernelspec": {
   "display_name": "Python 3",
   "language": "python",
   "name": "python3"
  },
  "language_info": {
   "codemirror_mode": {
    "name": "ipython",
    "version": 3
   },
   "file_extension": ".py",
   "mimetype": "text/x-python",
   "name": "python",
   "nbconvert_exporter": "python",
   "pygments_lexer": "ipython3",
   "version": "3.7.6"
  }
 },
 "nbformat": 4,
 "nbformat_minor": 4
}
