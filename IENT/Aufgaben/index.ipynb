{
 "cells": [
  {
   "cell_type": "markdown",
   "metadata": {},
   "source": [
    "<div>\n",
    "    <img src=\"http://www.ient.rwth-aachen.de/cms/uploads/images/rwth_ient_logo@2x.png\" style=\"float: right;height: 5em;\">\n",
    "</div>\n",
    "\n",
    "# Praktikumsaufgaben Versuch 6\n",
    "Dieser Versuch besteht aus drei Teilen. Bearbeiten Sie diese in der vorgegebenen Reihenfolge und zeigen Sie Ihrem Betreuer die Ergebnisse zur Abnahme vor, bevor Sie den nächsten Block beginnen. Das Praktikum ist in Python programmiert, die wichtigsten Funktionen finden Sie in der [__Befehlsreferenz__](Befehlsreferenz_V6.ipynb).\n",
    "\n",
    "## Inhaltsverzeichnis\n",
    "\n",
    "\n",
    "* __Teil 1:__ [__Verwendung von Funktionen der Scikit-Image und Matplotlib Python Bibliothek__](Teil_1.ipynb)\n",
    "* __Teil 2:__ [__Erweiterte Merkmalsbestimmung und Python-C++ Gatewayroutine__](Teil_2.ipynb)\n",
    "* __Teil 3:__ [__Klassifizierung von Objekten mittles neuronalen Netzen am Beispiel von Zahlen__](Teil_3.ipynb)\n",
    "\n",
    "\n",
    "\n",
    "\n",
    "## Jupyter Quick Start\n",
    "\n",
    "* Zum Ausführen aller Cells eines Notebooks: Im Menü: Cell <span class=\"fa-chevron-right fa\"></span> Run All\n",
    "* Zum Neustart (und erneutem Ausführen): <span class=\"fa-forward fa\"></span>-Button\n",
    "* Zum Ausführen einer einzelnen Cell: __Shift + Enter__ oder <span class=\"fa-step-forward fa\"></span> Run-Button "
   ]
  }
 ],
 "metadata": {
  "kernelspec": {
   "display_name": "Python 3",
   "language": "python",
   "name": "python3"
  },
  "language_info": {
   "codemirror_mode": {
    "name": "ipython",
    "version": 3
   },
   "file_extension": ".py",
   "mimetype": "text/x-python",
   "name": "python",
   "nbconvert_exporter": "python",
   "pygments_lexer": "ipython3",
   "version": "3.7.6"
  }
 },
 "nbformat": 4,
 "nbformat_minor": 4
}
