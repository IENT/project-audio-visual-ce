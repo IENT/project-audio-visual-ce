{
 "cells": [
  {
   "cell_type": "markdown",
   "metadata": {},
   "source": [
    "<div>\n",
    "    <img src=\"http://www.ient.rwth-aachen.de/cms/uploads/images/rwth_ient_logo@2x.png\" style=\"float: right;height: 5em;\">\n",
    "</div>"
   ]
  },
  {
   "cell_type": "code",
   "execution_count": null,
   "metadata": {
    "jupyter": {
     "deletable": false,
     "editable": false,
     "source_hidden": true
    }
   },
   "outputs": [],
   "source": [
    "# Copyright 2021 Institut für Nachrichtentechnik, RWTH Aachen University\n",
    "\n",
    "#Numpy,Sys, Matplotlib Imports, display widgets correctly \n",
    "import sys\n",
    "sys.path.insert(0,'./Bilder')\n",
    "sys.path.insert(0,'../ient_python')\n",
    "%matplotlib widget\n",
    "import numpy as np\n",
    "import math\n",
    "import matplotlib.pyplot as plt\n",
    "import matplotlib.patches as mpatches\n",
    "from matplotlib.pyplot import figure, draw, pause, close\n",
    "from matplotlib.widgets import RectangleSelector\n",
    "\n",
    "#iPython Imports\n",
    "from ipywidgets import widgets,interact\n",
    "import IPython.display as ip\n",
    "from IPython.display import set_matplotlib_formats\n",
    "set_matplotlib_formats('pdf', 'png')\n",
    "from IPython.display import Video\n",
    "\n",
    "#RWTH imports\n",
    "import rwth_nb.plots.mpl_decorations as rwth_plt\n",
    "import rwth_nb.misc.feedback as rwth_feedback\n",
    "\n",
    "#Scikit-Image, cv2 Imports\n",
    "from skimage.filters import threshold_otsu\n",
    "from skimage.morphology import label, square,binary_erosion, binary_dilation, disk\n",
    "from skimage.measure import regionprops\n",
    "from skimage.draw import rectangle_perimeter\n",
    "from skimage.io import imread, imshow\n",
    "from skimage.color import rgb2gray\n",
    "from skimage.transform import rotate, rescale\n",
    "from scipy.ndimage import binary_fill_holes\n",
    "from cv2 import warpAffine, getRotationMatrix2D, resize, INTER_LINEAR\n",
    "\n",
    "# Suppress warning\n",
    "import warnings\n",
    "warnings.simplefilter(action='ignore', category=FutureWarning)\n",
    "\n",
    "plt.close('all')\n",
    "plt.rcParams.update({'figure.max_open_warning': 0})"
   ]
  },
  {
   "cell_type": "markdown",
   "metadata": {},
   "source": [
    "## Teil 1: Klassifikation mit Formmerkmalen\n",
    "In diesem Teil des Projekts können einige Schritte zur Klassifikation von Objekten in Bildern mittels Formmerkmalen ausprobiert werden.\n",
    "Für eine solche Klassifikation muss ein geladenes Bild zunächst binarisieren, mögliches Rauschen im Bild reduzieren und der Hintergrund segmentiert (erkannt) werden. Anschließend müssen die einzelnen Objekte des Bildes voneinander separiert und die Merkmale berechnet werden.\n",
    "\n",
    "Alle benötigten Funktionen, können hier gefunden werden:\n",
    "\n",
    "__[Befehlsreferenz](Befehlsreferenz_Schueleruni.ipynb)__\n"
   ]
  },
  {
   "cell_type": "markdown",
   "metadata": {},
   "source": [
    "<div class=\"alert rwth-topic\">\n",
    "    \n",
    "## Schritt 1: Binarisierung\n",
    "\n",
    "Als Binarisierung bezeichnet man die Umwandlung des Bildes von einem belibigen Ursprungsformat in ein reines Schwarz/Weiß Bild ohne Graustufen.\n",
    "Ziel der Binarisierung ist die Segmentierung eines Bildes in Vorder- und Hintergrundregionen. Dabei soll der Vordergrundregionen der Wert 1 und der Hintergrundregion der Wert 0 zugeordent werden. Nach der Binarisierung hat also jeder Pixel des Bildes also nur noch den Wert 1 (Vordergrund) oder 0 (Hintergrund).\n",
    "\n",
    "Durch Ausführen der nächsten Zelle, können Sie sich zunächst das Ausgangsbild ansehen.\n",
    "    \n",
    "</div>"
   ]
  },
  {
   "cell_type": "code",
   "execution_count": null,
   "metadata": {
    "jupyter": {
     "source_hidden": true
    }
   },
   "outputs": [],
   "source": [
    "%matplotlib inline\n",
    "\n",
    "#Laden des Bildes\n",
    "img = imread(\"Bilder/Buchstaben.png\");\n",
    "#Anzeigen des geladenen Bildes:\n",
    "fig, ax = plt.subplots(1,1, figsize=(12,12));\n",
    "ax.imshow(img, cmap='gray');\n",
    "ax.set_axis_off();\n",
    "ax.set_title('Verrauschtes Bild mit Buchstaben', fontsize=18);\n",
    "plt.show()\n",
    "\n",
    "%matplotlib widget\n",
    "%matplotlib widget"
   ]
  },
  {
   "cell_type": "markdown",
   "metadata": {},
   "source": [
    "<div class=\"alert rwth-subtopic\">\n",
    "    \n",
    "### Schritt 1.1: Manuelle Segmentierung\n",
    "Eine der einfachsten Möglichkeiten Vorder- und Hintergrund zu trennen ist ein Schwellwert. Das bedeutet, alle Pixel die heller sind als dieser Wert, werden dem einen Teil, alle anderen dem anderen Teil zugeordnet. Die Schwirigkeit dabei ist, diesen Schwellwert sinnvoll festzulegen. \n",
    "\n",
    "Wenn der nachfolgende Block ausgeführt wurde, können Sie sich das Resultat für verschiedene Werte einmal ansehen in dem Sie den Regler darunter verschieben. Zudem wird auch das Histogram (die Häufigkeitsverteilung) der Grauwerte im Ursprungsbild gezeigt, da dies Hinweise für die Wahl eines Sinvollen Wertes liefert.\n",
    "\n",
    "</div>"
   ]
  },
  {
   "cell_type": "code",
   "execution_count": null,
   "metadata": {
    "jupyter": {
     "source_hidden": true
    }
   },
   "outputs": [],
   "source": [
    "from ipywidgets import interact, fixed, IntSlider, HBox, Layout, Output, VBox\n",
    "\n",
    "fig1, ax = plt.subplots(1,2,figsize=(15, 5))\n",
    "\n",
    "#Hier wird das Graustufenbild aus dem RGB Farbraum erzeugt\n",
    "img_gray = rgb2gray(img)\n",
    "\n",
    "#Hier kommt Ihre Lösung zu Aufgabe 1.2:\n",
    "img_gray_hist = img_gray.ravel()\n",
    "histogram = ax[0].hist(img_gray_hist, bins=32)\n",
    "ax[0].set_title(\"Histogramm\")\n",
    "ax[0].set_xlabel(\"Pixelwert\")\n",
    "ax[0].set_ylabel(\"Häufigkeit\")\n",
    "ax[0].spines['top'].set_visible(False)\n",
    "ax[0].spines['right'].set_visible(False)\n",
    "\n",
    "\n",
    "@widgets.interact(t=widgets.IntSlider(min=50, max=240, continuous_update=True, description='Schwellwert t'))\n",
    "def update_plot(t):\n",
    "    if ax[1].lines: # check if lines exist\n",
    "        ax[1].set_data(img_gray>t);\n",
    "        ax[1].draw()\n",
    "    else:\n",
    "        ax[1].imshow(img_gray>t, cmap= 'gray')\n",
    "        ax[1].set_title(\"Finden der Binarisierungsschwelle\")\n",
    "        ax[1].axis('off')\n"
   ]
  },
  {
   "cell_type": "markdown",
   "metadata": {},
   "source": [
    "<div class=\"alert rwth-subtopic\">\n",
    "    \n",
    "### Schritt 1.2: Binarisierung mit Otsu\n",
    "Wenn Buchstaben und Zahlen automatisch erkannt werden sollen, kann nicht jedes Mal ein Mensch erst den richtigen Schwellwert händisch festlegen. Dazu gibt es Verfahren, die diesen Wert automatisch das Bild anpassen. Eines der Grundlegensten ist die Methode von Otsu, bei der die Varianz innerhalb der beiden Bereiche minimiert wird. \n",
    "\n",
    "In der nächsten Zelle sollen Sie diese Methode einmal selber programieren.\n",
    "Wenn Sie das Resultat in der Variable 'thresh_otsu' speichern, können Sie sich das resultierende Bild durch ausführen der darauffolgenden Zelle ansehen.\n",
    "\n",
    "</div>"
   ]
  },
  {
   "cell_type": "code",
   "execution_count": null,
   "metadata": {},
   "outputs": [],
   "source": [
    "#Hier kommt Ihre Lösung zu Aufgabe 1.4:\n",
    "thresh_otsu = 0"
   ]
  },
  {
   "cell_type": "code",
   "execution_count": null,
   "metadata": {
    "jupyter": {
     "source_hidden": true
    }
   },
   "outputs": [],
   "source": [
    "%matplotlib inline\n",
    "\n",
    "#Binarisieren des Bildes mit dem ermittelten Schwellwert nach Otsu: Alle Werte, die größer als der Schwellwert sind werden zu 1 gesetzt, die anderen zu 0\n",
    "img_bin = img_gray>thresh_otsu\n",
    "\n",
    "#Laden des Bildes\n",
    "img = imread(\"Bilder/Buchstaben.png\");\n",
    "#Anzeigen des geladenen Bildes:\n",
    "fig, ax = plt.subplots(1,1, figsize=(12,12));\n",
    "ax.imshow(img_bin, cmap='gray');\n",
    "ax.set_axis_off();\n",
    "ax.set_title('Binarisiertes Bild nach Otsu', fontsize=18);\n",
    "plt.show()\n",
    "\n",
    "%matplotlib widget\n",
    "%matplotlib widget"
   ]
  },
  {
   "cell_type": "markdown",
   "metadata": {},
   "source": [
    "<div class=\"alert rwth-topic\">\n",
    "    \n",
    "## Schritt 2: Rauschreduktion \n",
    "Ziel dieses Schrittes ist es, dass im Binärbild vorhandene Rauschen (Pixel, die dem Vordergrund zugerechnet werden, aber eigentlich zum Hintergrund gehören) so weit wie möglich zu reduzieren. Dies kan mit Hilfe der morphologischer Operationen erreicht werden zu denen unter anderem die  __Erosion__ und __Dilatation__ gehören.  \n",
    "\n",
    "</div>"
   ]
  },
  {
   "cell_type": "markdown",
   "metadata": {},
   "source": [
    "<div class=\"alert rwth-subtopic\">\n",
    "      \n",
    "         \n",
    "### Schritt 2.1: Binäre Erosion\n",
    "Mit hilfe der Erosion können störende Bildpunkte entfernt werden. Das Ergebniss hängt dabei sehr vom verwendeten Strukturelemente (der verwendeten geometrischen Form, engl. Kernel) ab. Mögliche Strukturelemente sind in der \n",
    "__[Befehlsreferenz](Befehlsreferenz_Schueleruni.ipynb)__ aufgelistet.\n",
    "    \n",
    "Indem sie die Struckturelemente 'kernel1' und 'kernel2' in der nachfolgenden Zelle definieren, können Sie verschiedene Formen und Größen ausprobieren und vergleichen. Das jeweilige Ergebniss können sie durch ausführen der darauffolgenden Zelle ansehen.\n",
    "           \n",
    "</div>"
   ]
  },
  {
   "cell_type": "code",
   "execution_count": null,
   "metadata": {},
   "outputs": [],
   "source": [
    "#Hier kommt Ihre Lösung zu Aufgabe 2.1:\n",
    "kernel1 = #...\n",
    "kernel2 = #...\n"
   ]
  },
  {
   "cell_type": "code",
   "execution_count": null,
   "metadata": {
    "jupyter": {
     "source_hidden": true
    }
   },
   "outputs": [],
   "source": [
    "%matplotlib inline\n",
    "#Invertierung des Bildes\n",
    "img_tmp = ~img_bin\n",
    "\n",
    "#Anwendung der binären Erosion mit erstellten Strukturelementen\n",
    "img_erode1 = binary_erosion(img_tmp,kernel1) \n",
    "img_erode2 = binary_erosion(img_tmp,kernel2)\n",
    "\n",
    "#Plotten der binären Erosionen aus 2.1:\n",
    "fig, ax = plt.subplots(1,2,sharex='all', sharey='all', figsize=(20,20))\n",
    "ax[0].imshow(img_erode1,cmap='gray')\n",
    "ax[0].set_title(\"Erodiertes Bild mit Kernel 1\", fontsize=20)\n",
    "ax[1].imshow(img_erode2,cmap='gray')\n",
    "ax[1].set_title(\"Erodiertes Bild mit Kernel 2\", fontsize=20)\n",
    "\n",
    "for axs in ax.flat:\n",
    "    axs.set_axis_off()\n",
    "    \n",
    "    \n",
    "plt.show()\n",
    "\n",
    "%matplotlib widget\n",
    "%matplotlib widget"
   ]
  },
  {
   "cell_type": "markdown",
   "metadata": {},
   "source": [
    "<div class=\"alert rwth-subtopic\"> \n",
    "    \n",
    "### Schritt 2.2: Rekonstruktion\n",
    "Die Erosion im vorhergehenden Schritt hat neben dem Rauschen auch zum Objekt gehörende Bildpunkte entfernt. Diese können Teilweise durch eine Dilatation mit dem selbe Struckturelement wieder hergestellt werden. Das Resultat können Sie sich wieder durch ausführen der nächsten Zelle ansehen. Bleiben Sie bei Ihrer beurteilung, welche Form am besten geeignet ist?\n",
    "    \n",
    "__Hinweis__: In den nachfolgen Aufgaben wird mit dem ersten (linken) Bild weitergearbeitet. \n",
    "        \n",
    "</div>"
   ]
  },
  {
   "cell_type": "code",
   "execution_count": null,
   "metadata": {
    "jupyter": {
     "source_hidden": true
    }
   },
   "outputs": [],
   "source": [
    "%matplotlib inline\n",
    "#Anwendung der binären Dilatation mit erstellten Strukturelementen\n",
    "img_dil1 = binary_dilation(img_erode1, kernel1) \n",
    "img_dil2 = binary_dilation(img_erode2, kernel2) \n",
    "#Plotten der binären Dilatationen aus 2.2:\n",
    "\n",
    "fig, ax = plt.subplots(1,2,sharex='all', sharey='all', figsize=(20,20))\n",
    "ax[0].imshow(img_dil1,cmap='gray')\n",
    "ax[0].set_title(\"Dilatiertes Bild mit Kernel 1\", fontsize=20)\n",
    "ax[1].imshow(img_dil2,cmap='gray')\n",
    "ax[1].set_title(\"Dilatiertes Bild mit Kernel 2\", fontsize=20)\n",
    "\n",
    "for axs in ax.flat:\n",
    "    axs.set_axis_off()    \n",
    "    \n",
    "plt.show()\n",
    "\n",
    "%matplotlib widget\n",
    "%matplotlib widget"
   ]
  },
  {
   "cell_type": "markdown",
   "metadata": {},
   "source": [
    "<div class=\"alert rwth-topic\">\n",
    "   \n",
    "## Schritt 3: Labeling und Ausschneiden \n",
    "\n",
    "Um die einzelnen Objekte im Bild mithilfe beschreiben zu können, müssen die Objekte zunächst grob voneinander getrennt werden.\n",
    "Im Fall von Druckschrift reicht meist schon ein Rechteck um jeweils zusammenhängende Teile des Vordergrunds auszuschneiden. \n",
    "    \n",
    "Das Ergebnisse so wie zwei Zwischenschritte werden nach ausführung der nächsten Zelle angezeigt.\n",
    "      \n",
    "</div>"
   ]
  },
  {
   "cell_type": "code",
   "execution_count": 1,
   "metadata": {
    "jupyter": {
     "source_hidden": true
    }
   },
   "outputs": [
    {
     "output_type": "error",
     "ename": "NameError",
     "evalue": "name 'label' is not defined",
     "traceback": [
      "\u001b[1;31m---------------------------------------------------------------------------\u001b[0m",
      "\u001b[1;31mNameError\u001b[0m                                 Traceback (most recent call last)",
      "\u001b[1;32m<ipython-input-1-09a9f8bf0521>\u001b[0m in \u001b[0;36m<module>\u001b[1;34m\u001b[0m\n\u001b[0;32m      2\u001b[0m \u001b[1;33m\u001b[0m\u001b[0m\n\u001b[0;32m      3\u001b[0m \u001b[1;31m#Labeln des Bildes\u001b[0m\u001b[1;33m\u001b[0m\u001b[1;33m\u001b[0m\u001b[1;33m\u001b[0m\u001b[0m\n\u001b[1;32m----> 4\u001b[1;33m \u001b[0mimg_label\u001b[0m \u001b[1;33m=\u001b[0m \u001b[0mlabel\u001b[0m\u001b[1;33m(\u001b[0m\u001b[0mimg_dil1\u001b[0m\u001b[1;33m)\u001b[0m\u001b[1;33m\u001b[0m\u001b[1;33m\u001b[0m\u001b[0m\n\u001b[0m\u001b[0;32m      5\u001b[0m \u001b[1;33m\u001b[0m\u001b[0m\n\u001b[0;32m      6\u001b[0m \u001b[1;31m#Bestimmung der Eigenschaften und der Bounding-Boxen\u001b[0m\u001b[1;33m\u001b[0m\u001b[1;33m\u001b[0m\u001b[1;33m\u001b[0m\u001b[0m\n",
      "\u001b[1;31mNameError\u001b[0m: name 'label' is not defined"
     ]
    }
   ],
   "source": [
    "%matplotlib inline\n",
    "    \n",
    "#Labeln des Bildes\n",
    "img_label = label(img_dil1)\n",
    "\n",
    "#Bestimmung der Eigenschaften und der Bounding-Boxen\n",
    "regions = regionprops(img_label)\n",
    "minr, minc, maxr, maxc = regions[0].bbox\n",
    "\n",
    "#Ausschneiden eines Bildteils anhand einer Bounding-Box\n",
    "img_cropped = img_dil1[minr-1:maxr+1, minc-1:maxc+1]\n",
    "\n",
    "#Label-Bild\n",
    "fig, ax = plt.subplots(1,4, figsize=(25,25))\n",
    "\n",
    "ax[0].imshow(~img_bin, cmap='gray')\n",
    "ax[0].set_axis_off();\n",
    "ax[0].set_title('Originales, binarisiertes Bild', fontsize=20);\n",
    "\n",
    "ax[1].imshow(img_label, cmap='gray');\n",
    "ax[1].set_axis_off();\n",
    "ax[1].set_title('Gelabeltes Bild', fontsize=20);\n",
    "\n",
    "#ounding Boxen\n",
    "ax[2].axis('off')\n",
    "ax[2].imshow(img_label, cmap= 'gray')\n",
    "ax[2].set_title('Bounding-Box um \"A\"', fontsize=20)\n",
    "rect = mpatches.Rectangle((minc, minr), maxc - minc, maxr - minr, fill=False, edgecolor='yellow', linewidth=2)\n",
    "ax[2].add_patch(rect)\n",
    "\n",
    "\n",
    "#Ausgeschnittener Buchstabe\n",
    "ax[3].imshow(img_cropped, cmap='gray');\n",
    "ax[3].set_axis_off();\n",
    "ax[3].set_title('Ausgeschnittener Buchstabe', fontsize=20);\n",
    "\n",
    "\n",
    "plt.show()\n",
    "\n",
    "%matplotlib widget\n",
    "%matplotlib widget"
   ]
  },
  {
   "cell_type": "markdown",
   "metadata": {},
   "source": [
    "<div class=\"alert rwth-topic\">\n",
    "    \n",
    "## Schritt 4: Merkmale und Invarianzen\n",
    "Eine belibtes Merkmal um die From eines Objekts also hier eines Buchstabens zu beschreiben ist die Homogenität. Diese ist als Verhältniss des Umfangs (U) zum Quadrat zur Fläche (A) definiert: H=U^2/A \n",
    "Man kann sich dieses Merkmal auch als Kehrwert der Rundheit eines Objectes vorstellen. \n",
    "\n",
    "Nach ausführen der nächsten Zelle wird ein Beispielbild und dessen Homogenität angezeigt. Mit Hilfe der Regler, können die Bilder gedreht oder skaliert werden. Welchen Effeckt hat das auf die Homogenität? Kann man die Buchstaben anhand ihrer Homogenität eindeutig identifizieren?\n",
    "</div>"
   ]
  },
  {
   "cell_type": "code",
   "execution_count": null,
   "metadata": {
    "jupyter": {
     "source_hidden": true
    }
   },
   "outputs": [],
   "source": [
    "kernelX = square(3)\n",
    "\n",
    "def ient_homogenity(contour,image):\n",
    "    homogenity = (np.sum(contour)*np.sum(contour))/np.sum(image)\n",
    "    print('Homogenität: %.2f' %homogenity)\n",
    "    \n",
    "\n",
    "#load the cropped image embedded in bigger black img to avoid bound-crops and overlapping by neighboured characters\n",
    "a_in_black = (imread(\"Bilder/A_in_black.png\")).astype(bool)\n",
    "\n",
    "#Rotate image correctly\n",
    "def rotate_image(mat, angle):\n",
    "    height, width = mat.shape[:2] \n",
    "    image_center = (width/2, height/2)\n",
    "\n",
    "    rotation_mat = getRotationMatrix2D(image_center, angle, 1.)\n",
    "\n",
    "    abs_cos = abs(rotation_mat[0,0]) \n",
    "    abs_sin = abs(rotation_mat[0,1])\n",
    "\n",
    "    bound_w = int(height * abs_sin + width * abs_cos)\n",
    "    bound_h = int(height * abs_cos + width * abs_sin)\n",
    "\n",
    "    rotation_mat[0, 2] += bound_w/2 - image_center[0]\n",
    "    rotation_mat[1, 2] += bound_h/2 - image_center[1]\n",
    "\n",
    "    rotated_mat = warpAffine(mat, rotation_mat, (bound_w, bound_h))\n",
    "    return rotated_mat\n",
    "\n",
    "\n",
    "fig, ax = plt.subplots(1,2,figsize=(10, 6))\n",
    "\n",
    "#Rotate Slider\n",
    "@widgets.interact(d=widgets.IntSlider(min=0, max=360, continuous_update=True))\n",
    "def update_rotation(d):\n",
    "        rotated_a = label(rotate_image(a_in_black.astype(np.double), d))\n",
    "        regions = regionprops(rotated_a)\n",
    "        boxes = np.array([label['BoundingBox']\n",
    "                  for label in regions])\n",
    "        rotated_a_cropped = rotated_a[boxes[0][0]-1:boxes[0][2]+1, boxes[0][1]-1:boxes[0][3]+1]\n",
    "    \n",
    "        if ax[0].lines: # check if lines exist\n",
    "            ax[0].set_data(rotated_a_cropped);\n",
    "            ax[0].draw()\n",
    "\n",
    "        else:\n",
    "            ax[0].imshow(rotated_a_cropped, cmap= 'gray')\n",
    "            ax[0].set_title(\"Rotation des Buchstaben\")\n",
    "            ax[0].axis('off')\n",
    "            \n",
    "        print('Winkel: ',d, '°')\n",
    "        rotated_filled = binary_fill_holes(rotated_a_cropped)\n",
    "        rotated_contour = rotated_filled.astype(np.double) - binary_erosion(rotated_filled, kernelX)\n",
    "        ient_homogenity(rotated_contour,rotated_filled)\n",
    "\n",
    "#Resize Slider\n",
    "@widgets.interact(r=widgets.FloatSlider(min=0.01, max=5, step=0.05,continuous_update=False))\n",
    "def update_resize(r):\n",
    "        # parameter for resizing\n",
    "        width = int(a_in_black.shape[1] * r)\n",
    "        height = int(a_in_black.shape[0] * r)\n",
    "        dsize = (width, height)\n",
    "        # resizing\n",
    "        resized_image= resize(a_in_black.astype(float),dsize,interpolation = INTER_LINEAR)#INTER_NEAREST\n",
    "        # crop to get A with little margin and cast to boolean\n",
    "        resized_image_a = label(resized_image.astype(float))\n",
    "        regions = regionprops(resized_image_a)\n",
    "        boxes = np.array([label['BoundingBox']\n",
    "                for label in regions])\n",
    "        resized_image_cropped = resized_image_a[boxes[0][0]-1:boxes[0][2]+1, boxes[0][1]-1:boxes[0][3]+1].astype(bool)\n",
    "        # plotting\n",
    "        if ax[1].lines: # check if lines exist, if so: just update data\n",
    "            ax[1].set_data(resized_image_cropped);\n",
    "            ax[1].draw()\n",
    "        else: # plot whole figure\n",
    "            ax[1].imshow((resized_image_cropped), cmap= 'gray')\n",
    "            ax[1].set_title(\"Skalierung des Buchstaben\")\n",
    "            ax[1].axis('off')\n",
    "        print('Skalierungsfaktor: ',r)\n",
    "        # homogenity\n",
    "        scaled_filled = binary_fill_holes(resized_image)\n",
    "        scaled_contour = scaled_filled.astype(np.double) - binary_erosion(scaled_filled, kernelX)\n",
    "        ient_homogenity(scaled_contour,scaled_filled)\n",
    "        "
   ]
  },
  {
   "cell_type": "markdown",
   "metadata": {},
   "source": [
    "<div class=\"alert rwth-feedback\">\n",
    "\n",
    "    \n",
    "# Feedback:\n",
    "\n",
    "Liebe TeilnehmerInnen,\n",
    "\n",
    "Wir würden uns freuen, wenn ihr am Ende jeder Aufgabe kurz eure Meinung aufschreibt. Ihr könnt auf die dadrunter liegende Zelle zu greifen und eure Anmerkungen zu der Aufgabe (oder auch generelles) reinschreiben.\n",
    "\n",
    "\n",
    "</div>"
   ]
  },
  {
   "cell_type": "code",
   "execution_count": null,
   "metadata": {
    "jupyter": {
     "source_hidden": true
    }
   },
   "outputs": [],
   "source": [
    "rwth_feedback.rwth_feedback('Feedback V6.1', [\n",
    "    {'id': 'likes', 'type': 'free-text', 'label': 'Das war gut:'}, \n",
    "    {'id': 'dislikes', 'type': 'free-text', 'label': 'Das könnte verbessert werden:'}, \n",
    "    {'id': 'misc', 'type': 'free-text', 'label': 'Was ich sonst noch sagen möchte:'}, \n",
    "    {'id': 'learning', 'type': 'scale', 'label' : 'Ich habe das Gefühl etwas gelernt zu haben.'},\n",
    "    {'id': 'supervision', 'type': 'scale', 'label' : 'Die Betreuung des Versuchs war gut.'},\n",
    "    {'id': 'script', 'type': 'scale', 'label' : 'Die Versuchsunterlagen sind verständlich.'},\n",
    "], \"feedback.json\", 'pti@ient.rwth-aachen.de')"
   ]
  },
  {
   "cell_type": "markdown",
   "metadata": {},
   "source": [
    "# >>Weiter zu  [__Teil 2__](Teil_2.ipynb)\n"
   ]
  }
 ],
 "metadata": {
  "kernelspec": {
   "name": "python3",
   "display_name": "Python 3.7.4 64-bit"
  },
  "language_info": {
   "codemirror_mode": {
    "name": "ipython",
    "version": 3
   },
   "file_extension": ".py",
   "mimetype": "text/x-python",
   "name": "python",
   "nbconvert_exporter": "python",
   "pygments_lexer": "ipython3",
   "version": "3.7.4"
  },
  "interpreter": {
   "hash": "cb93c3b50feab60081a67724fcb318fea36f69b658a2735d2d6b9e788d4f4001"
  }
 },
 "nbformat": 4,
 "nbformat_minor": 4
}