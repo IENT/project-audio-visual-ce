{
 "cells": [
  {
   "cell_type": "markdown",
   "source": [
    "<div>\n",
    "    <img src=\"http://www.ient.rwth-aachen.de/cms/uploads/images/rwth_ient_logo@2x.png\" style=\"float: right;height: 5em;\">\n",
    "</div>"
   ],
   "metadata": {}
  },
  {
   "cell_type": "code",
   "execution_count": null,
   "source": [
    "# Copyright 2021 Institut für Nachrichtentechnik, RWTH Aachen University\r\n",
    "\r\n",
    "#Numpy,Sys, Matplotlib Imports, display widgets correctly \r\n",
    "import sys\r\n",
    "sys.path.insert(0,'./Bilder')\r\n",
    "sys.path.insert(0,'../ient_python')\r\n",
    "%matplotlib widget\r\n",
    "import numpy as np\r\n",
    "import math\r\n",
    "import matplotlib.pyplot as plt\r\n",
    "import matplotlib.patches as mpatches\r\n",
    "from matplotlib.pyplot import figure, draw, pause, close\r\n",
    "from matplotlib.widgets import RectangleSelector\r\n",
    "\r\n",
    "#iPython Imports\r\n",
    "from ipywidgets import widgets,interact\r\n",
    "import IPython.display as ip\r\n",
    "from IPython.display import set_matplotlib_formats\r\n",
    "set_matplotlib_formats('pdf', 'png')\r\n",
    "from IPython.display import Video\r\n",
    "\r\n",
    "#RWTH imports\r\n",
    "import rwth_nb.plots.mpl_decorations as rwth_plt\r\n",
    "import rwth_nb.misc.feedback as rwth_feedback\r\n",
    "\r\n",
    "#Scikit-Image, cv2 Imports\r\n",
    "from skimage.filters import threshold_otsu\r\n",
    "from skimage.morphology import label, square,binary_erosion, binary_dilation, disk\r\n",
    "from skimage.measure import regionprops\r\n",
    "from skimage.draw import rectangle_perimeter\r\n",
    "from skimage.io import imread, imshow\r\n",
    "from skimage.color import rgb2gray\r\n",
    "from skimage.transform import rotate, rescale\r\n",
    "from scipy.ndimage import binary_fill_holes\r\n",
    "from cv2 import warpAffine, getRotationMatrix2D, resize, INTER_LINEAR\r\n",
    "\r\n",
    "# Suppress warning\r\n",
    "import warnings\r\n",
    "warnings.simplefilter(action='ignore', category=FutureWarning)\r\n",
    "\r\n",
    "plt.close('all')\r\n",
    "plt.rcParams.update({'figure.max_open_warning': 0})"
   ],
   "outputs": [],
   "metadata": {
    "jupyter": {
     "deletable": false,
     "editable": false,
     "source_hidden": true
    }
   }
  },
  {
   "cell_type": "markdown",
   "source": [
    "## Teil 1: Klassifikation mit Formmerkmalen\n",
    "In diesem Teil des Projekts können einige Schritte zur Klassifikation von Objekten in Bildern mittels Formmerkmalen ausprobiert werden.\n",
    "Für eine solche Klassifikation muss ein geladenes Bild zunächst binarisieren, mögliches Rauschen im Bild reduzieren und der Hintergrund segmentiert (erkannt) werden. Anschließend müssen die einzelnen Objekte des Bildes voneinander separiert und die Merkmale berechnet werden.\n",
    "\n",
    "Alle benötigten Funktionen, können hier gefunden werden:\n",
    "\n",
    "__[Befehlsreferenz](Befehlsreferenz_Schueleruni.ipynb)__\n"
   ],
   "metadata": {}
  },
  {
   "cell_type": "markdown",
   "source": [
    "<div class=\"alert rwth-topic\">\n",
    "    \n",
    "## Schritt 1: Binarisierung\n",
    "\n",
    "Als Binarisierung bezeichnet man die Umwandlung des Bildes von einem beliebigen Ursprungsformat in ein reines Schwarz/Weiß Bild ohne Graustufen.\n",
    "Ziel der Binarisierung ist die Segmentierung eines Bildes in Vorder- und Hintergrundregionen. Dabei soll der Vordergrundregionen der Wert 1 und der Hintergrundregion der Wert 0 zugeordnet werden. Nach der Binarisierung hat also jedes Pixel des Bildes also nur noch den Wert 1 (Vordergrund) oder 0 (Hintergrund).\n",
    "\n",
    "Durch Ausführen der nächsten Zelle, können Sie sich zunächst das Ausgangsbild ansehen.\n",
    "    \n",
    "</div>"
   ],
   "metadata": {}
  },
  {
   "cell_type": "code",
   "execution_count": null,
   "source": [
    "%matplotlib inline\r\n",
    "\r\n",
    "#Laden des Bildes\r\n",
    "img = imread(\"Bilder/Buchstaben.png\");\r\n",
    "#Anzeigen des geladenen Bildes:\r\n",
    "fig, ax = plt.subplots(1,1, figsize=(12,12));\r\n",
    "ax.imshow(img, cmap='gray');\r\n",
    "ax.set_axis_off();\r\n",
    "ax.set_title('Verrauschtes Bild mit Buchstaben', fontsize=18);\r\n",
    "plt.show()\r\n",
    "\r\n",
    "%matplotlib widget\r\n",
    "%matplotlib widget"
   ],
   "outputs": [],
   "metadata": {
    "jupyter": {
     "source_hidden": true
    }
   }
  },
  {
   "cell_type": "markdown",
   "source": [
    "<div class=\"alert rwth-subtopic\">\n",
    "    \n",
    "### Schritt 1.1: Manuelle Segmentierung\n",
    "Eine der einfachsten Möglichkeiten Vorder- und Hintergrund zu trennen ist ein Schwellwert. Das bedeutet, alle Pixel die heller sind als dieser Wert, werden dem einen Teil, alle anderen dem anderen Teil zugeordnet. Die Schwierigkeit dabei ist, diesen Schwellwert sinnvoll festzulegen. \n",
    "\n",
    "Wenn der nachfolgende Block ausgeführt wurde, können Sie sich das Resultat für verschiedene Werte einmal ansehen indem Sie den Regler darunter verschieben. Zudem wird auch das Histogram (die Häufigkeitsverteilung) der Grauwerte im Ursprungsbild gezeigt, da dies Hinweise für die Wahl eines sinnvollen Wertes liefert.\n",
    "\n",
    "</div>"
   ],
   "metadata": {}
  },
  {
   "cell_type": "code",
   "execution_count": null,
   "source": [
    "from ipywidgets import interact, fixed, IntSlider, HBox, Layout, Output, VBox\r\n",
    "\r\n",
    "fig1, ax = plt.subplots(1,2,figsize=(15, 5))\r\n",
    "\r\n",
    "#Hier wird das Graustufenbild aus dem RGB Farbraum erzeugt\r\n",
    "img_gray = rgb2gray(img)\r\n",
    "\r\n",
    "#Hier kommt Ihre Lösung zu Aufgabe 1.2:\r\n",
    "img_gray_hist = img_gray.ravel()\r\n",
    "histogram = ax[0].hist(img_gray_hist, bins=32)\r\n",
    "ax[0].set_title(\"Histogramm\")\r\n",
    "ax[0].set_xlabel(\"Pixelwert\")\r\n",
    "ax[0].set_ylabel(\"Häufigkeit\")\r\n",
    "ax[0].spines['top'].set_visible(False)\r\n",
    "ax[0].spines['right'].set_visible(False)\r\n",
    "\r\n",
    "\r\n",
    "@widgets.interact(t=widgets.IntSlider(min=50, max=240, continuous_update=True, description='Schwellwert t'))\r\n",
    "def update_plot(t):\r\n",
    "    if ax[1].lines: # check if lines exist\r\n",
    "        ax[1].set_data(img_gray>t);\r\n",
    "        ax[1].draw()\r\n",
    "    else:\r\n",
    "        ax[1].imshow(img_gray>t, cmap= 'gray')\r\n",
    "        ax[1].set_title(\"Finden der Binarisierungsschwelle\")\r\n",
    "        ax[1].axis('off')\r\n"
   ],
   "outputs": [],
   "metadata": {
    "jupyter": {
     "source_hidden": true
    }
   }
  },
  {
   "cell_type": "markdown",
   "source": [
    "<div class=\"alert rwth-subtopic\">\n",
    "    \n",
    "### Schritt 1.2: Binarisierung mit Otsu\n",
    "Wenn Buchstaben und Zahlen automatisch erkannt werden sollen, kann nicht jedes Mal ein Mensch erst den richtigen Schwellwert händisch festlegen. Dazu gibt es Verfahren, die diesen Wert automatisch an das Bild anpassen. Eines der grundlegensten ist die Methode von Otsu, bei der die Varianz innerhalb der beiden Bereiche minimiert wird. \n",
    "\n",
    "In der nächsten Zelle sollen Sie diese Methode einmal selber programieren.\n",
    "Wenn Sie das Resultat in der Variable 'thresh_otsu' speichern, können Sie sich das resultierende Bild durch Ausführen der darauffolgenden Zelle ansehen.\n",
    "\n",
    "</div>"
   ],
   "metadata": {}
  },
  {
   "cell_type": "code",
   "execution_count": null,
   "source": [
    "#Hier kommt Ihre Lösung zu Aufgabe 1.2:\r\n",
    "thresh_otsu = 0"
   ],
   "outputs": [],
   "metadata": {}
  },
  {
   "cell_type": "code",
   "execution_count": null,
   "source": [
    "%matplotlib inline\r\n",
    "\r\n",
    "#Binarisieren des Bildes mit dem ermittelten Schwellwert nach Otsu: Alle Werte, die größer als der Schwellwert sind werden zu 1 gesetzt, die anderen zu 0\r\n",
    "img_bin = img_gray>thresh_otsu\r\n",
    "\r\n",
    "#Laden des Bildes\r\n",
    "img = imread(\"Bilder/Buchstaben.png\");\r\n",
    "#Anzeigen des geladenen Bildes:\r\n",
    "fig, ax = plt.subplots(1,1, figsize=(12,12));\r\n",
    "ax.imshow(img_bin, cmap='gray');\r\n",
    "ax.set_axis_off();\r\n",
    "ax.set_title('Binarisiertes Bild nach Otsu', fontsize=18);\r\n",
    "plt.show()\r\n",
    "\r\n",
    "%matplotlib widget\r\n",
    "%matplotlib widget"
   ],
   "outputs": [],
   "metadata": {
    "jupyter": {
     "source_hidden": true
    }
   }
  },
  {
   "cell_type": "markdown",
   "source": [
    "<div class=\"alert rwth-topic\">\n",
    "    \n",
    "## Schritt 2: Rauschreduktion \n",
    "Ziel dieses Schrittes ist es, dass im Binärbild vorhandene Rauschen (Pixel, die dem Vordergrund zugerechnet werden, aber eigentlich zum Hintergrund gehören) so weit wie möglich zu reduzieren. Dies kan mit Hilfe der morphologischer Operationen erreicht werden zu denen unter anderem die  __Erosion__ und __Dilatation__ gehören.  \n",
    "\n",
    "</div>"
   ],
   "metadata": {}
  },
  {
   "cell_type": "markdown",
   "source": [
    "<div class=\"alert rwth-subtopic\">\n",
    "      \n",
    "         \n",
    "### Schritt 2.1: Binäre Erosion\n",
    "Mit hilfe der Erosion können störende Bildpunkte entfernt werden. Das Ergebniss hängt dabei sehr vom verwendeten Strukturelemente (der verwendeten geometrischen Form, engl. Kernel) ab. Mögliche Strukturelemente sind in der \n",
    "__[Befehlsreferenz](Befehlsreferenz_Schueleruni.ipynb)__ aufgelistet.\n",
    "    \n",
    "Indem Sie die Strukturelemente 'kernel1' und 'kernel2' in der nachfolgenden Zelle definieren, können Sie verschiedene Formen und Größen ausprobieren und vergleichen. Das jeweilige Ergebnis können Sie durch Ausführen der darauffolgenden Zelle ansehen.\n",
    "           \n",
    "</div>"
   ],
   "metadata": {}
  },
  {
   "cell_type": "code",
   "execution_count": null,
   "source": [
    "#Hier kommt Ihre Lösung zu Aufgabe 2.1:\r\n",
    "kernel1 = #...\r\n",
    "kernel2 = #...\r\n"
   ],
   "outputs": [],
   "metadata": {}
  },
  {
   "cell_type": "code",
   "execution_count": null,
   "source": [
    "%matplotlib inline\r\n",
    "#Invertierung des Bildes\r\n",
    "img_tmp = ~img_bin\r\n",
    "\r\n",
    "#Anwendung der binären Erosion mit erstellten Strukturelementen\r\n",
    "img_erode1 = binary_erosion(img_tmp,kernel1) \r\n",
    "img_erode2 = binary_erosion(img_tmp,kernel2)\r\n",
    "\r\n",
    "#Plotten der binären Erosionen aus 2.1:\r\n",
    "fig, ax = plt.subplots(1,2,sharex='all', sharey='all', figsize=(20,20))\r\n",
    "ax[0].imshow(img_erode1,cmap='gray')\r\n",
    "ax[0].set_title(\"Erodiertes Bild mit Kernel 1\", fontsize=20)\r\n",
    "ax[1].imshow(img_erode2,cmap='gray')\r\n",
    "ax[1].set_title(\"Erodiertes Bild mit Kernel 2\", fontsize=20)\r\n",
    "\r\n",
    "for axs in ax.flat:\r\n",
    "    axs.set_axis_off()\r\n",
    "    \r\n",
    "    \r\n",
    "plt.show()\r\n",
    "\r\n",
    "%matplotlib widget\r\n",
    "%matplotlib widget"
   ],
   "outputs": [],
   "metadata": {
    "jupyter": {
     "source_hidden": true
    }
   }
  },
  {
   "cell_type": "markdown",
   "source": [
    "<div class=\"alert rwth-subtopic\"> \n",
    "    \n",
    "### Schritt 2.2: Rekonstruktion\n",
    "Die Erosion im vorhergehenden Schritt hat neben dem Rauschen auch zum Objekt gehörende Bildpunkte entfernt. Diese können teilweise durch eine Dilatation mit dem selbe Strukturelement wiederhergestellt werden. Das Resultat können Sie sich wieder durch Ausführen der nächsten Zelle ansehen. Bleiben Sie bei Ihrer Beurteilung, welche Form am besten geeignet ist?\n",
    "    \n",
    "__Hinweis__: In den nachfolgen Aufgaben wird mit dem ersten (linken) Bild weitergearbeitet. \n",
    "        \n",
    "</div>"
   ],
   "metadata": {}
  },
  {
   "cell_type": "code",
   "execution_count": null,
   "source": [
    "%matplotlib inline\r\n",
    "#Anwendung der binären Dilatation mit erstellten Strukturelementen\r\n",
    "img_dil1 = binary_dilation(img_erode1, kernel1) \r\n",
    "img_dil2 = binary_dilation(img_erode2, kernel2) \r\n",
    "#Plotten der binären Dilatationen aus 2.2:\r\n",
    "\r\n",
    "fig, ax = plt.subplots(1,2,sharex='all', sharey='all', figsize=(20,20))\r\n",
    "ax[0].imshow(img_dil1,cmap='gray')\r\n",
    "ax[0].set_title(\"Dilatiertes Bild mit Kernel 1\", fontsize=20)\r\n",
    "ax[1].imshow(img_dil2,cmap='gray')\r\n",
    "ax[1].set_title(\"Dilatiertes Bild mit Kernel 2\", fontsize=20)\r\n",
    "\r\n",
    "for axs in ax.flat:\r\n",
    "    axs.set_axis_off()    \r\n",
    "    \r\n",
    "plt.show()\r\n",
    "\r\n",
    "%matplotlib widget\r\n",
    "%matplotlib widget"
   ],
   "outputs": [],
   "metadata": {
    "jupyter": {
     "source_hidden": true
    }
   }
  },
  {
   "cell_type": "markdown",
   "source": [
    "<div class=\"alert rwth-topic\">\n",
    "   \n",
    "## Schritt 3: Labeling und Ausschneiden \n",
    "\n",
    "Um die einzelnen Objekte im Bild beschreiben zu können, müssen die Objekte zunächst grob voneinander getrennt werden.\n",
    "Im Fall von Druckschrift reicht meist schon ein Rechteck um jeweils zusammenhängende Teile des Vordergrunds auszuschneiden. \n",
    "    \n",
    "Das Ergebnis so wie zwei Zwischenschritte werden nach Ausführung der nächsten Zelle angezeigt.\n",
    "      \n",
    "</div>"
   ],
   "metadata": {}
  },
  {
   "cell_type": "markdown",
   "source": [
    "<div class=\"alert rwth-topic\">\n",
    "    \n",
    "## Schritt 4: Merkmale und Invarianzen\n",
    "Eine beliebtes Merkmal um die From eines Objekts, also hier eines Buchstabens, zu beschreiben ist die Homogenität. Diese ist als Verhältnis des Umfangs (U) zum Quadrat zur Fläche (A) definiert: H=U^2/A \n",
    "Man kann sich dieses Merkmal auch als Kehrwert der Rundheit eines Objectes vorstellen. \n",
    "\n",
    "Nach Ausführen der nächsten Zelle wird ein Beispielbild und dessen Homogenität angezeigt. Mit Hilfe der Regler können die Bilder gedreht oder skaliert werden. Welchen Effekt hat das auf die Homogenität? Kann man die Buchstaben anhand ihrer Homogenität eindeutig identifizieren?\n",
    "</div>"
   ],
   "metadata": {}
  },
  {
   "cell_type": "code",
   "execution_count": null,
   "source": [
    "kernelX = square(3)\r\n",
    "\r\n",
    "def ient_homogenity(contour,image):\r\n",
    "    homogenity = (np.sum(contour)*np.sum(contour))/np.sum(image)\r\n",
    "    print('Homogenität: %.2f' %homogenity)\r\n",
    "    \r\n",
    "\r\n",
    "#load the cropped image embedded in bigger black img to avoid bound-crops and overlapping by neighboured characters\r\n",
    "a_in_black = (imread(\"Bilder/A_in_black.png\")).astype(bool)\r\n",
    "\r\n",
    "#Rotate image correctly\r\n",
    "def rotate_image(mat, angle):\r\n",
    "    height, width = mat.shape[:2] \r\n",
    "    image_center = (width/2, height/2)\r\n",
    "\r\n",
    "    rotation_mat = getRotationMatrix2D(image_center, angle, 1.)\r\n",
    "\r\n",
    "    abs_cos = abs(rotation_mat[0,0]) \r\n",
    "    abs_sin = abs(rotation_mat[0,1])\r\n",
    "\r\n",
    "    bound_w = int(height * abs_sin + width * abs_cos)\r\n",
    "    bound_h = int(height * abs_cos + width * abs_sin)\r\n",
    "\r\n",
    "    rotation_mat[0, 2] += bound_w/2 - image_center[0]\r\n",
    "    rotation_mat[1, 2] += bound_h/2 - image_center[1]\r\n",
    "\r\n",
    "    rotated_mat = warpAffine(mat, rotation_mat, (bound_w, bound_h))\r\n",
    "    return rotated_mat\r\n",
    "\r\n",
    "\r\n",
    "fig, ax = plt.subplots(1,2,figsize=(10, 6))\r\n",
    "\r\n",
    "#Rotate Slider\r\n",
    "@widgets.interact(d=widgets.IntSlider(min=0, max=360, continuous_update=False))\r\n",
    "def update_rotation(d):\r\n",
    "        rotated_a = label(rotate_image(a_in_black.astype(np.double), d))\r\n",
    "        regions = regionprops(rotated_a)\r\n",
    "        boxes = np.array([label['BoundingBox']\r\n",
    "                  for label in regions])\r\n",
    "        rotated_a_cropped = rotated_a[boxes[0][0]-1:boxes[0][2]+1, boxes[0][1]-1:boxes[0][3]+1]\r\n",
    "    \r\n",
    "        if ax[0].lines: # check if lines exist\r\n",
    "            ax[0].set_data(rotated_a_cropped);\r\n",
    "            ax[0].draw()\r\n",
    "\r\n",
    "        else:\r\n",
    "            ax[0].imshow(rotated_a_cropped, cmap= 'gray')\r\n",
    "            ax[0].set_title(\"Rotation des Buchstaben\")\r\n",
    "            ax[0].axis('off')\r\n",
    "            \r\n",
    "        print('Winkel: ',d, '°')\r\n",
    "        rotated_filled = binary_fill_holes(rotated_a_cropped)\r\n",
    "        rotated_contour = rotated_filled.astype(np.double) - binary_erosion(rotated_filled, kernelX)\r\n",
    "        ient_homogenity(rotated_contour,rotated_filled)\r\n",
    "\r\n",
    "#Resize Slider\r\n",
    "@widgets.interact(r=widgets.FloatSlider(min=0.01, max=5, step=0.05,continuous_update=False))\r\n",
    "def update_resize(r):\r\n",
    "        # parameter for resizing\r\n",
    "        width = int(a_in_black.shape[1] * r)\r\n",
    "        height = int(a_in_black.shape[0] * r)\r\n",
    "        dsize = (width, height)\r\n",
    "        # resizing\r\n",
    "        resized_image= resize(a_in_black.astype(float),dsize,interpolation = INTER_LINEAR)#INTER_NEAREST\r\n",
    "        # crop to get A with little margin and cast to boolean\r\n",
    "        resized_image_a = label(resized_image.astype(float))\r\n",
    "        regions = regionprops(resized_image_a)\r\n",
    "        boxes = np.array([label['BoundingBox']\r\n",
    "                for label in regions])\r\n",
    "        resized_image_cropped = resized_image_a[boxes[0][0]-1:boxes[0][2]+1, boxes[0][1]-1:boxes[0][3]+1].astype(bool)\r\n",
    "        # plotting\r\n",
    "        if ax[1].lines: # check if lines exist, if so: just update data\r\n",
    "            ax[1].set_data(resized_image_cropped);\r\n",
    "            ax[1].draw()\r\n",
    "        else: # plot whole figure\r\n",
    "            ax[1].imshow((resized_image_cropped), cmap= 'gray')\r\n",
    "            ax[1].set_title(\"Skalierung des Buchstaben\")\r\n",
    "            ax[1].axis('off')\r\n",
    "        print('Skalierungsfaktor: ',r)\r\n",
    "        # homogenity\r\n",
    "        scaled_filled = binary_fill_holes(resized_image)\r\n",
    "        scaled_contour = scaled_filled.astype(np.double) - binary_erosion(scaled_filled, kernelX)\r\n",
    "        ient_homogenity(scaled_contour,scaled_filled)\r\n",
    "        "
   ],
   "outputs": [],
   "metadata": {
    "jupyter": {
     "source_hidden": true
    }
   }
  },
  {
   "cell_type": "markdown",
   "source": [
    "<div class=\"alert rwth-feedback\">\n",
    "\n",
    "    \n",
    "# Feedback:\n",
    "\n",
    "Liebe TeilnehmerInnen,\n",
    "\n",
    "Wir würden uns freuen, wenn ihr am Ende jeder Aufgabe kurz eure Meinung aufschreibt. Ihr könnt auf die dadrunter liegende Zelle zu greifen und eure Anmerkungen zu der Aufgabe (oder auch generelles) reinschreiben.\n",
    "\n",
    "\n",
    "</div>"
   ],
   "metadata": {}
  },
  {
   "cell_type": "code",
   "execution_count": null,
   "source": [
    "rwth_feedback.rwth_feedback('Feedback V6.1', [\r\n",
    "    {'id': 'likes', 'type': 'free-text', 'label': 'Das war gut:'}, \r\n",
    "    {'id': 'dislikes', 'type': 'free-text', 'label': 'Das könnte verbessert werden:'}, \r\n",
    "    {'id': 'misc', 'type': 'free-text', 'label': 'Was ich sonst noch sagen möchte:'}, \r\n",
    "    {'id': 'learning', 'type': 'scale', 'label' : 'Ich habe das Gefühl etwas gelernt zu haben.'},\r\n",
    "    {'id': 'supervision', 'type': 'scale', 'label' : 'Die Betreuung des Versuchs war gut.'},\r\n",
    "    {'id': 'script', 'type': 'scale', 'label' : 'Die Versuchsunterlagen sind verständlich.'},\r\n",
    "], \"feedback.json\", 'pti@ient.rwth-aachen.de')"
   ],
   "outputs": [],
   "metadata": {
    "jupyter": {
     "source_hidden": true
    }
   }
  },
  {
   "cell_type": "markdown",
   "source": [
    "# >>Weiter zu  [__Teil 2__](Teil_2_old.ipynb)\r\n"
   ],
   "metadata": {}
  }
 ],
 "metadata": {
  "kernelspec": {
   "name": "python3",
   "display_name": "Python 3.7.4 64-bit"
  },
  "language_info": {
   "codemirror_mode": {
    "name": "ipython",
    "version": 3
   },
   "file_extension": ".py",
   "mimetype": "text/x-python",
   "name": "python",
   "nbconvert_exporter": "python",
   "pygments_lexer": "ipython3",
   "version": "3.7.4"
  },
  "interpreter": {
   "hash": "cb93c3b50feab60081a67724fcb318fea36f69b658a2735d2d6b9e788d4f4001"
  }
 },
 "nbformat": 4,
 "nbformat_minor": 4
}