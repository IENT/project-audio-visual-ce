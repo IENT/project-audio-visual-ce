{
 "cells": [
  {
   "cell_type": "markdown",
   "metadata": {},
   "source": [
    "<div>\n",
    "    <img src=\"http://www.ient.rwth-aachen.de/cms/uploads/images/rwth_ient_logo@2x.png\" style=\"float: right;height: 5em;\">\n",
    "</div>"
   ]
  },
  {
   "cell_type": "code",
   "execution_count": null,
   "metadata": {
    "jupyter": {
     "deletable": false,
     "editable": false,
     "source_hidden": true
    }
   },
   "outputs": [],
   "source": [
    "# Copyright 2021 Institut für Nachrichtentechnik, RWTH Aachen University\n",
    "\n",
    "#Numpy,Sys, Matplotlib Imports, display widgets correctly \n",
    "import sys\n",
    "sys.path.insert(0,'./Bilder')\n",
    "sys.path.insert(0,'../ient_python')\n",
    "%matplotlib widget\n",
    "import numpy as np\n",
    "import math\n",
    "import matplotlib.pyplot as plt\n",
    "import matplotlib.patches as mpatches\n",
    "from matplotlib.pyplot import figure, draw, pause, close\n",
    "from matplotlib.widgets import RectangleSelector\n",
    "\n",
    "#iPython Imports\n",
    "from ipywidgets import widgets,interact\n",
    "import IPython.display as ip\n",
    "from IPython.display import set_matplotlib_formats\n",
    "set_matplotlib_formats('pdf', 'png')\n",
    "from IPython.display import Video\n",
    "\n",
    "#RWTH imports\n",
    "import rwth_nb.plots.mpl_decorations as rwth_plt\n",
    "import rwth_nb.misc.feedback as rwth_feedback\n",
    "\n",
    "#Scikit-Image, cv2 Imports\n",
    "from skimage.filters import threshold_otsu\n",
    "from skimage.morphology import label, square,binary_erosion, binary_dilation, disk\n",
    "from skimage.measure import regionprops\n",
    "from skimage.draw import rectangle_perimeter\n",
    "from skimage.io import imread, imshow\n",
    "from skimage.color import rgb2gray\n",
    "from skimage.transform import rotate, rescale\n",
    "from scipy.ndimage import binary_fill_holes\n",
    "from cv2 import warpAffine, getRotationMatrix2D, resize, INTER_LINEAR\n",
    "\n",
    "# Suppress warning\n",
    "import warnings\n",
    "warnings.simplefilter(action='ignore', category=FutureWarning)\n",
    "\n",
    "plt.close('all')\n",
    "plt.rcParams.update({'figure.max_open_warning': 0})"
   ]
  },
  {
   "cell_type": "markdown",
   "metadata": {},
   "source": [
    "## Teil 1: Klassifikation mit Formmerkmalen\n",
    "In diesem Teil des Projekts sollen Sie die wesentlichen Schritte zur Klassifikation von Objekten in Bildern mittels Formmerkmalen kennenlernen und durchführen.\n",
    "Dazu werden Sie ein geladenes Bild zunächst binarisieren, das Rauschen im Bild reduzieren und Merkmalsregionen vom Hintergrund segmentiert. Anschließend müssen die einzelnen Objekte des Bildes voneinander separiert und Merkmale berechnet werden.\n",
    "\n",
    "Für nähere Informationen bezüglich der verwendeten Funktionen, schauen Sie hier:\n",
    "\n",
    "__[Befehlsreferenz](Befehlsreferenz_Schueleruni.ipynb)__\n"
   ]
  },
  {
   "cell_type": "markdown",
   "metadata": {},
   "source": [
    "<div class=\"alert rwth-topic\">\n",
    "    \n",
    "## Aufgabe 1: Binarisierung\n",
    "Ziel des Binarisierungsschrittes ist die Segmentierung eines Bildes in Vorder- und Hintergrundregionen. Dabei wird den Vordergrundregionen der Wert 1 und der Hintergrundregion der Wert 0 zugeordent. Nach der Binarisierung hat jeder Pixel des Bildes also nur noch den Wert 1 (Vordergrund) oder 0 (Hintergrund).\n",
    "\n",
    "Durch Ausführen der nächsten Zeile, sehen Sie, welches Bild im folgenden weiter verarbeitet wird.\n",
    "    \n",
    "</div>"
   ]
  },
  {
   "cell_type": "code",
   "execution_count": null,
   "metadata": {
    "jupyter": {
     "source_hidden": true
    }
   },
   "outputs": [],
   "source": [
    "%matplotlib inline\n",
    "\n",
    "#Laden des Bildes\n",
    "img = imread(\"Bilder/Buchstaben.png\");\n",
    "#Anzeigen des geladenen Bildes:\n",
    "fig, ax = plt.subplots(1,1, figsize=(12,12));\n",
    "ax.imshow(img, cmap='gray');\n",
    "ax.set_axis_off();\n",
    "ax.set_title('Verrauschtes Bild mit Buchstaben', fontsize=18);\n",
    "plt.show()\n",
    "\n",
    "%matplotlib widget\n",
    "%matplotlib widget"
   ]
  },
  {
   "cell_type": "markdown",
   "metadata": {},
   "source": [
    "<div class=\"alert rwth-subtopic\">\n",
    "    \n",
    "### Aufgabe 1.1: Manuelle Segmentierung\n",
    "\n",
    "* __Histogramm__: Hier wird zunächst das Histogramm der Grauwerte im Bild berechnet, d.h. die Häufigkeitsverteilung der Werte 0-255 des Bildes.\n",
    "Schauen Sie sich das Histogramm an und geben Sie eine Schätzung für eine geeignete Binarisierungsschwelle an.\n",
    "\n",
    "* __Binarisierungsschwelle__: Mit Hilfe des Reglers können sie die Grenze für die Binarisierung (Schwellwert) einstellen. Finden sie einen guten Binarisierungsschwellwert durch Verschieben des Reglers.\n",
    "\n",
    "</div>"
   ]
  },
  {
   "cell_type": "code",
   "execution_count": null,
   "metadata": {
    "jupyter": {
     "source_hidden": true
    }
   },
   "outputs": [],
   "source": [
    "from ipywidgets import interact, fixed, IntSlider, HBox, Layout, Output, VBox\n",
    "\n",
    "fig1, ax = plt.subplots(1,2,figsize=(15, 5))\n",
    "\n",
    "#Hier wird das Graustufenbild aus dem RGB Farbraum erzeugt\n",
    "img_gray = rgb2gray(img)\n",
    "\n",
    "#Hier kommt Ihre Lösung zu Aufgabe 1.2:\n",
    "img_gray_hist = img_gray.ravel()\n",
    "histogram = ax[0].hist(img_gray_hist, bins=32)\n",
    "ax[0].set_title(\"Histogramm\")\n",
    "ax[0].set_xlabel(\"Pixelwert\")\n",
    "ax[0].set_ylabel(\"Häufigkeit\")\n",
    "ax[0].spines['top'].set_visible(False)\n",
    "ax[0].spines['right'].set_visible(False)\n",
    "\n",
    "\n",
    "@widgets.interact(t=widgets.IntSlider(min=50, max=240, continuous_update=True, description='Schwellwert t'))\n",
    "def update_plot(t):\n",
    "    if ax[1].lines: # check if lines exist\n",
    "        ax[1].set_data(img_gray>t);\n",
    "        ax[1].draw()\n",
    "    else:\n",
    "        ax[1].imshow(img_gray>t, cmap= 'gray')\n",
    "        ax[1].set_title(\"Finden der Binarisierungsschwelle\")\n",
    "        ax[1].axis('off')\n"
   ]
  },
  {
   "cell_type": "markdown",
   "metadata": {},
   "source": [
    "<div class=\"alert rwth-subtopic\">\n",
    "    \n",
    "### Aufgabe 1.2: Binarisierung mit der Methode von Otsu\n",
    "Ermitteln Sie die optimale Binarisierungsschwelle nach der Methode von Otsu und speichern Sie den ermittelten Schwellwert in der Variable *thresh_otsu*. Geben Sie diesen aus.\n",
    "    \n",
    "Das Bild wird anschließend mit Hilfe der berechneten Schwelle binarisiert und kann durch Ausführen der nächsten Zelle dargestellt werden.\n",
    "</div>"
   ]
  },
  {
   "cell_type": "code",
   "execution_count": null,
   "metadata": {},
   "outputs": [],
   "source": [
    "#Hier kommt Ihre Lösung zu Aufgabe 1.4:\n",
    "#..."
   ]
  },
  {
   "cell_type": "code",
   "execution_count": null,
   "metadata": {
    "jupyter": {
     "source_hidden": true
    }
   },
   "outputs": [],
   "source": [
    "%matplotlib inline\n",
    "\n",
    "#Binarisieren des Bildes mit dem ermittelten Schwellwert nach Otsu: Alle Werte, die größer als der Schwellwert sind werden zu 1 gesetzt, die anderen zu 0\n",
    "img_bin = img_gray>thresh_otsu\n",
    "\n",
    "#Laden des Bildes\n",
    "img = imread(\"Bilder/Buchstaben.png\");\n",
    "#Anzeigen des geladenen Bildes:\n",
    "fig, ax = plt.subplots(1,1, figsize=(12,12));\n",
    "ax.imshow(img_bin, cmap='gray');\n",
    "ax.set_axis_off();\n",
    "ax.set_title('Binarisiertes Bild nach Otsu', fontsize=18);\n",
    "plt.show()\n",
    "\n",
    "%matplotlib widget\n",
    "%matplotlib widget"
   ]
  },
  {
   "cell_type": "markdown",
   "metadata": {},
   "source": [
    "<div class=\"alert rwth-topic\">\n",
    "    \n",
    "## Aufgabe 2: Rauschreduktion mittels morphologischer Operationen\n",
    "Ziel dieses Schrittes ist es, dass im Binärbild vorhandene Rauschen (Pixel, die dem Vordergrund zugerechnet werden, aber eigentlich zum Hintergrund gehören) so weit wie möglich zu reduzieren. Dies soll mit Hilfe der morphologischen Bildverarbeitung erreicht werden.  \n",
    "    \n",
    "Zu den wichtigsten morphologischen Operationen gehören __Erosion__ und __Dilatation__.\n",
    "\n",
    "</div>"
   ]
  },
  {
   "cell_type": "markdown",
   "metadata": {},
   "source": [
    "<div class=\"alert rwth-subtopic\">\n",
    "      \n",
    "         \n",
    "### Aufgabe 2.1: Binäre Erosion\n",
    "Entfernen Sie störende Bildpunkte mit Hilfe einer binären Erosion. Experimentieren Sie dabei mit Strukturelementen (Kernel) verschiedener geometrischer Formen. Welche Strukturelemente Sie nutzen können, finden Sie in der \n",
    "__[Befehlsreferenz](Befehlsreferenz_Schueleruni.ipynb)__ .\n",
    "    \n",
    "Vergleichen sie die 2 Bilder unterschiedlicher Strukturelemente.\n",
    "      \n",
    " * Welches Strukturelement bietet das beste Ergebnis? \n",
    " * Welche Probleme beobachten Sie durch zu große oder zu kleine Strukturelemente? \n",
    "    \n",
    "Verwenden Sie in den darauf folgenden Aufgaben das erodierte Bild mit dem besten Ergebnis. \n",
    "    \n",
    "__Hinweis__: Für eine aktualisierten Anzeige nach Veränderung der Strukturelemente, führen Sie bitte auch die versteckte Zeile aus\n",
    "           \n",
    "</div>"
   ]
  },
  {
   "cell_type": "code",
   "execution_count": null,
   "metadata": {},
   "outputs": [],
   "source": [
    "#Invertierung des Bildes\n",
    "img_tmp = ~img_bin\n",
    "\n",
    "#Hier kommt Ihre Lösung zu Aufgabe 2.1:\n",
    "kernel1 = #...\n",
    "kernel2 = #...\n",
    "\n",
    "#Anwendung der binären Erosion mit erstellten Strukturelementen\n",
    "img_erode1 = binary_erosion(img_tmp,kernel1) \n",
    "img_erode2 = binary_erosion(img_tmp,kernel2)"
   ]
  },
  {
   "cell_type": "code",
   "execution_count": null,
   "metadata": {
    "jupyter": {
     "source_hidden": true
    }
   },
   "outputs": [],
   "source": [
    "%matplotlib inline\n",
    "#Plotten der binären Erosionen aus 2.1:\n",
    "fig, ax = plt.subplots(1,2,sharex='all', sharey='all', figsize=(20,20))\n",
    "ax[0].imshow(img_erode1,cmap='gray')\n",
    "ax[0].set_title(\"Erodiertes Bild mit Kernel 1\", fontsize=20)\n",
    "ax[1].imshow(img_erode2,cmap='gray')\n",
    "ax[1].set_title(\"Erodiertes Bild mit Kernel 2\", fontsize=20)\n",
    "\n",
    "for axs in ax.flat:\n",
    "    axs.set_axis_off()\n",
    "    \n",
    "    \n",
    "plt.show()\n",
    "\n",
    "%matplotlib widget\n",
    "%matplotlib widget"
   ]
  },
  {
   "cell_type": "markdown",
   "metadata": {},
   "source": [
    "<div class=\"alert rwth-subtopic\"> \n",
    "    \n",
    "### Aufgabe 2.2: Rekonstruktion\n",
    "Die Erosion im vorhergehenden Schritt hat neben dem Rauschen auch zum Objekt gehörende Bildpunkte entfernt. Rekonstruieren Sie die ursprüngliche Form des Buchstabens durch eine Dilatation. \n",
    "    \n",
    "Vergleichen Sie auch hier wieder 2 Bilder unterschiedlicher Strukturelemente\n",
    " \n",
    " * Welches Strukturelement bietet das beste Ergebnis? \n",
    " * Welche Probleme beobachten Sie durch zu große oder zu kleine Strukturelemente?     \n",
    "    \n",
    "Verwenden Sie in den nachfolgen Aufgaben das Bild mit dem besten Ergebnis. Es wird mit dem ersten (linken) Bild weitergearbeitet.   \n",
    "    \n",
    "__Hinweis__: Für eine aktualisierten Anzeige nach Veränderung der Strukturelemente, führen Sie bitte auch die versteckte Zeile aus\n",
    "\n",
    "        \n",
    "</div>"
   ]
  },
  {
   "cell_type": "code",
   "execution_count": null,
   "metadata": {},
   "outputs": [],
   "source": [
    "#Anwendung der binären Dilatation mit erstellten Strukturelementen\n",
    "img_dil1 = binary_dilation(img_erode1, kernel1) \n",
    "img_dil2 = binary_dilation(img_erode2, kernel2) "
   ]
  },
  {
   "cell_type": "code",
   "execution_count": null,
   "metadata": {
    "jupyter": {
     "source_hidden": true
    }
   },
   "outputs": [],
   "source": [
    "%matplotlib inline\n",
    "#Plotten der binären Dilatationen aus 2.2:\n",
    "\n",
    "fig, ax = plt.subplots(1,2,sharex='all', sharey='all', figsize=(20,20))\n",
    "ax[0].imshow(img_dil1,cmap='gray')\n",
    "ax[0].set_title(\"Dilatiertes Bild mit Kernel 1\", fontsize=20)\n",
    "ax[1].imshow(img_dil2,cmap='gray')\n",
    "ax[1].set_title(\"Dilatiertes Bild mit Kernel 2\", fontsize=20)\n",
    "\n",
    "for axs in ax.flat:\n",
    "    axs.set_axis_off()    \n",
    "    \n",
    "plt.show()\n",
    "\n",
    "%matplotlib widget\n",
    "%matplotlib widget"
   ]
  },
  {
   "cell_type": "markdown",
   "metadata": {},
   "source": [
    "<div class=\"alert rwth-topic\">\n",
    "   \n",
    "## Aufgabe 3: Labeling und Ausschneiden\n",
    "__Es wird mit dem linken Bild weitergearbeitet__. \n",
    "\n",
    "Um die einzelnen Objekte im Bild mithilfe von Form-Merkmalen beschreiben zu können, müssen die Merkmale zunächst grob lokalisiert werden.\n",
    "Für das Beispiel hier reicht ein sehr einfaches Verfahren:\n",
    "\n",
    "* __Labeling__: Das Labeling soll verschiedene Objekte im Bild voneinander trennen, indem es zusammenhängende Vordergrundregionen identifiziert. Und jeder identifizierten Vordergrundregion eine Label-Nummer zuweist.\n",
    "    \n",
    "* __Bounding-Boxen__: Nach dem Labeling werden die erkannten Vordergrundregionen (=Objekte) durch getrennt. Dafür wird hier zunächst eine Bounding-Box für jedes Objekt ermittelt werden. Gezeigt wird hier die Bounding-Box um den Buchstaben 'A'.\n",
    "    \n",
    "* __Ausschneiden__: Von nun an soll nur noch mit dem Buchstaben 'A' weitergearbeitet werden. Dazu wird die Bounding-Box, die diesen enthält ausgeschnitten. So haben wir also ein Objekt aus dem gesamten Bild identifiziet und extrahiert.\n",
    "    \n",
    "Sie können sich die Ergebnisse der einzelnen Schritte nach Ausführen der nächsten Zelle anschauen.\n",
    "      \n",
    "</div>"
   ]
  },
  {
   "cell_type": "code",
   "execution_count": null,
   "metadata": {
    "jupyter": {
     "source_hidden": true
    }
   },
   "outputs": [],
   "source": [
    "%matplotlib inline\n",
    "    \n",
    "#Labeln des Bildes\n",
    "img_label = label(img_dil1)\n",
    "\n",
    "#Bestimmung der Eigenschaften und der Bounding-Boxen\n",
    "regions = regionprops(img_label)\n",
    "minr, minc, maxr, maxc = regions[0].bbox\n",
    "\n",
    "#Ausschneiden eines Bildteils anhand einer Bounding-Box\n",
    "img_cropped = img_dil1[minr-1:maxr+1, minc-1:maxc+1]\n",
    "\n",
    "#Label-Bild\n",
    "fig, ax = plt.subplots(1,4, figsize=(25,25))\n",
    "\n",
    "ax[0].imshow(~img_bin, cmap='gray')\n",
    "ax[0].set_axis_off();\n",
    "ax[0].set_title('Originales, binarisiertes Bild', fontsize=20);\n",
    "\n",
    "ax[1].imshow(img_label, cmap='gray');\n",
    "ax[1].set_axis_off();\n",
    "ax[1].set_title('Gelabeltes Bild', fontsize=20);\n",
    "\n",
    "#ounding Boxen\n",
    "ax[2].axis('off')\n",
    "ax[2].imshow(img_label, cmap= 'gray')\n",
    "ax[2].set_title('Bounding-Box um \"A\"', fontsize=20)\n",
    "rect = mpatches.Rectangle((minc, minr), maxc - minc, maxr - minr, fill=False, edgecolor='yellow', linewidth=2)\n",
    "ax[2].add_patch(rect)\n",
    "\n",
    "\n",
    "#Ausgeschnittener Buchstabe\n",
    "ax[3].imshow(img_cropped, cmap='gray');\n",
    "ax[3].set_axis_off();\n",
    "ax[3].set_title('Ausgeschnittener Buchstabe', fontsize=20);\n",
    "\n",
    "\n",
    "plt.show()\n",
    "\n",
    "%matplotlib widget\n",
    "%matplotlib widget"
   ]
  },
  {
   "cell_type": "markdown",
   "metadata": {},
   "source": [
    "<div class=\"alert rwth-topic\">\n",
    "    \n",
    "## Aufgabe 4: Merkmalsbestimmung am Beispiel Homogenität \n",
    "Ziel dieser Aufgabe ist es, dass Sie das Merkmal der Homogenität für den Buchstaben 'A' berechnen und sich mit dessen Eigenschaften beschäftigen.\n",
    "        \n",
    "</div>"
   ]
  },
  {
   "cell_type": "markdown",
   "metadata": {},
   "source": [
    "<div class=\"alert rwth-subtopic\">\n",
    "    \n",
    "### Aufgabe 4.1: Homogenität - Eigenschaften\n",
    "Führend Sie die nachfolgende Zelle aus. Rotieren und skalieren Sie die angezeigten Bilder mittels der Regler.\n",
    " *  Was stellen Sie fest?\n",
    " *  Beeinflussen Skalierung und Rotation der Bilder die Eigenschaft \"Homogenität\"?\n",
    " *  Kann man mithilfe der Homogenität Objekt in Bildern klassifizieren?\n",
    "               \n",
    "</div>"
   ]
  },
  {
   "cell_type": "code",
   "execution_count": null,
   "metadata": {
    "jupyter": {
     "source_hidden": true
    }
   },
   "outputs": [],
   "source": [
    "kernelX = square(3)\n",
    "\n",
    "def ient_homogenity(contour,image):\n",
    "    homogenity = (np.sum(contour)*np.sum(contour))/np.sum(image)\n",
    "    print('Homogenität: %.2f' %homogenity)\n",
    "    \n",
    "\n",
    "#load the cropped image embedded in bigger black img to avoid bound-crops and overlapping by neighboured characters\n",
    "a_in_black = (imread(\"Bilder/A_in_black.png\")).astype(bool)\n",
    "\n",
    "#Rotate image correctly\n",
    "def rotate_image(mat, angle):\n",
    "    height, width = mat.shape[:2] \n",
    "    image_center = (width/2, height/2)\n",
    "\n",
    "    rotation_mat = getRotationMatrix2D(image_center, angle, 1.)\n",
    "\n",
    "    abs_cos = abs(rotation_mat[0,0]) \n",
    "    abs_sin = abs(rotation_mat[0,1])\n",
    "\n",
    "    bound_w = int(height * abs_sin + width * abs_cos)\n",
    "    bound_h = int(height * abs_cos + width * abs_sin)\n",
    "\n",
    "    rotation_mat[0, 2] += bound_w/2 - image_center[0]\n",
    "    rotation_mat[1, 2] += bound_h/2 - image_center[1]\n",
    "\n",
    "    rotated_mat = warpAffine(mat, rotation_mat, (bound_w, bound_h))\n",
    "    return rotated_mat\n",
    "\n",
    "\n",
    "fig, ax = plt.subplots(1,2,figsize=(10, 6))\n",
    "\n",
    "#Rotate Slider\n",
    "@widgets.interact(d=widgets.IntSlider(min=0, max=360, continuous_update=True))\n",
    "def update_rotation(d):\n",
    "        rotated_a = label(rotate_image(a_in_black.astype(np.double), d))\n",
    "        regions = regionprops(rotated_a)\n",
    "        boxes = np.array([label['BoundingBox']\n",
    "                  for label in regions])\n",
    "        rotated_a_cropped = rotated_a[boxes[0][0]-1:boxes[0][2]+1, boxes[0][1]-1:boxes[0][3]+1]\n",
    "    \n",
    "        if ax[0].lines: # check if lines exist\n",
    "            ax[0].set_data(rotated_a_cropped);\n",
    "            ax[0].draw()\n",
    "\n",
    "        else:\n",
    "            ax[0].imshow(rotated_a_cropped, cmap= 'gray')\n",
    "            ax[0].set_title(\"Rotation des Buchstaben\")\n",
    "            ax[0].axis('off')\n",
    "            \n",
    "        print('Winkel: ',d, '°')\n",
    "        rotated_filled = binary_fill_holes(rotated_a_cropped)\n",
    "        rotated_contour = rotated_filled.astype(np.double) - binary_erosion(rotated_filled, kernelX)\n",
    "        ient_homogenity(rotated_contour,rotated_filled)\n",
    "\n",
    "#Resize Slider\n",
    "@widgets.interact(r=widgets.FloatSlider(min=0.01, max=5, step=0.05,continuous_update=False))\n",
    "def update_resize(r):\n",
    "        # parameter for resizing\n",
    "        width = int(a_in_black.shape[1] * r)\n",
    "        height = int(a_in_black.shape[0] * r)\n",
    "        dsize = (width, height)\n",
    "        # resizing\n",
    "        resized_image= resize(a_in_black.astype(float),dsize,interpolation = INTER_LINEAR)#INTER_NEAREST\n",
    "        # crop to get A with little margin and cast to boolean\n",
    "        resized_image_a = label(resized_image.astype(float))\n",
    "        regions = regionprops(resized_image_a)\n",
    "        boxes = np.array([label['BoundingBox']\n",
    "                for label in regions])\n",
    "        resized_image_cropped = resized_image_a[boxes[0][0]-1:boxes[0][2]+1, boxes[0][1]-1:boxes[0][3]+1].astype(bool)\n",
    "        # plotting\n",
    "        if ax[1].lines: # check if lines exist, if so: just update data\n",
    "            ax[1].set_data(resized_image_cropped);\n",
    "            ax[1].draw()\n",
    "        else: # plot whole figure\n",
    "            ax[1].imshow((resized_image_cropped), cmap= 'gray')\n",
    "            ax[1].set_title(\"Skalierung des Buchstaben\")\n",
    "            ax[1].axis('off')\n",
    "        print('Skalierungsfaktor: ',r)\n",
    "        # homogenity\n",
    "        scaled_filled = binary_fill_holes(resized_image)\n",
    "        scaled_contour = scaled_filled.astype(np.double) - binary_erosion(scaled_filled, kernelX)\n",
    "        ient_homogenity(scaled_contour,scaled_filled)\n",
    "        "
   ]
  },
  {
   "cell_type": "markdown",
   "metadata": {},
   "source": [
    "<div class=\"alert rwth-feedback\">\n",
    "\n",
    "    \n",
    "# Feedback:\n",
    "\n",
    "Liebe TeilnehmerInnen,\n",
    "\n",
    "Wir würden uns freuen, wenn ihr am Ende jeder Aufgabe kurz eure Meinung aufschreibt. Ihr könnt auf die dadrunter liegende Zelle zu greifen und eure Anmerkungen zu der Aufgabe (oder auch generelles) reinschreiben.\n",
    "\n",
    "\n",
    "</div>"
   ]
  },
  {
   "cell_type": "code",
   "execution_count": null,
   "metadata": {
    "jupyter": {
     "source_hidden": true
    }
   },
   "outputs": [],
   "source": [
    "rwth_feedback.rwth_feedback('Feedback V6.1', [\n",
    "    {'id': 'likes', 'type': 'free-text', 'label': 'Das war gut:'}, \n",
    "    {'id': 'dislikes', 'type': 'free-text', 'label': 'Das könnte verbessert werden:'}, \n",
    "    {'id': 'misc', 'type': 'free-text', 'label': 'Was ich sonst noch sagen möchte:'}, \n",
    "    {'id': 'learning', 'type': 'scale', 'label' : 'Ich habe das Gefühl etwas gelernt zu haben.'},\n",
    "    {'id': 'supervision', 'type': 'scale', 'label' : 'Die Betreuung des Versuchs war gut.'},\n",
    "    {'id': 'script', 'type': 'scale', 'label' : 'Die Versuchsunterlagen sind verständlich.'},\n",
    "], \"feedback.json\", 'pti@ient.rwth-aachen.de')"
   ]
  },
  {
   "cell_type": "markdown",
   "metadata": {},
   "source": [
    "# >>Weiter zu  [__Teil 2__](Teil_2.ipynb)\n"
   ]
  }
 ],
 "metadata": {
  "kernelspec": {
   "display_name": "pti6_env",
   "language": "python",
   "name": "pti6_env"
  },
  "language_info": {
   "codemirror_mode": {
    "name": "ipython",
    "version": 3
   },
   "file_extension": ".py",
   "mimetype": "text/x-python",
   "name": "python",
   "nbconvert_exporter": "python",
   "pygments_lexer": "ipython3",
   "version": "3.7.6"
  }
 },
 "nbformat": 4,
 "nbformat_minor": 4
}
