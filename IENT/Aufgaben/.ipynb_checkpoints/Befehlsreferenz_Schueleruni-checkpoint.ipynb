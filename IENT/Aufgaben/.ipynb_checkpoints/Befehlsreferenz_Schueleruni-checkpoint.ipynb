{
 "cells": [
  {
   "cell_type": "markdown",
   "metadata": {},
   "source": [
    "<div>\n",
    "    <img src=\"http://www.ient.rwth-aachen.de/cms/uploads/images/rwth_ient_logo@2x.png\" style=\"float: right;height: 5em;\">\n",
    "</div>"
   ]
  },
  {
   "cell_type": "markdown",
   "metadata": {},
   "source": [
    "# Schülerprojekt - Befehlsreferenz\n",
    "\n",
    "## Jupyter Quick Start\n",
    "\n",
    "* Zum Neustart: Kernel <span class=\"fa-chevron-right fa\"></span> Restart Kernel and Run up to Slected Cell\n",
    "* Zum Ausführen einer einzelnen Cell: <span class=\"fa-play fa\"></span> Run-Button"
   ]
  },
  {
   "cell_type": "markdown",
   "metadata": {},
   "source": [
    "## Allgemeines\n",
    "\n",
    "__[~](https://stackoverflow.com/questions/8305199/the-tilde-operator-in-python)__: \"Nicht\"-Operator, bspw. zur Invertierung eines Binärbildes\n",
    "\n",
    "## Numpy-Arrays\n",
    "\n",
    "__[np.ravel()](https://numpy.org/doc/stable/reference/generated/numpy.ravel.html)__: Reiht alle Einträge eines n-dimensionales Array in einen Vektor (1D-Array) auf.\n"
   ]
  },
  {
   "cell_type": "markdown",
   "metadata": {},
   "source": [
    "## Methode von Otsu\n",
    "\n",
    "__[threshold_otsu()](https://scikit-image.org/docs/dev/api/skimage.filters.html#skimage.filters.threshold_otsu)__: Berechnet die Binarisierungsgrenze eines Graustufenbildes nach der Methode von Otsu.\n",
    "\n",
    "## Morphologische Operationen\n",
    "\n",
    "__[binary_erosion()](https://scikit-image.org/docs/dev/api/skimage.morphology.html#skimage.morphology.binary_erosion)__: Führt eine Erosion auf einem Binärbild aus.\n",
    "\n",
    "__[binary_dilation()](https://scikit-image.org/docs/dev/api/skimage.morphology.html#skimage.morphology.binary_dilation)__: Führt eine Dilatation auf einem Binärbild aus.\n",
    "\n",
    "## Strukturelemente\n",
    "\n",
    "__[disk()](https://scikit-image.org/docs/dev/api/skimage.morphology.html#skimage.morphology.disk)__: Erstellt ein Strukturelement der Form 'Kreis'\n",
    "\n",
    "__[square()](https://scikit-image.org/docs/dev/api/skimage.morphology.html#skimage.morphology.square)__: Erstellt ein Strukturelement der Form 'Quadrat'.\n",
    "\n",
    "__[rectangle()](https://scikit-image.org/docs/dev/api/skimage.morphology.html#skimage.morphology.rectangle)__: Erstellt ein Strukturelement der Form 'Rechteck'.\n",
    "\n",
    "__[star()](https://scikit-image.org/docs/dev/api/skimage.morphology.html#skimage.morphology.star)__: Erstellt ein Strukturelement der Form 'Stern'.\n",
    "\n",
    "__[ball()](https://scikit-image.org/docs/dev/api/skimage.morphology.html#skimage.morphology.ball)__: Erstellt ein Strukturelement der Form 'Ball'.\n",
    "\n",
    "__[octagon()](https://scikit-image.org/docs/dev/api/skimage.morphology.html#skimage.morphology.octagon)__: Erstellt ein Strukturelement der Form 'Oktagon'.\n",
    "\n",
    "__[cube()](https://scikit-image.org/docs/dev/api/skimage.morphology.html#skimage.morphology.cube)__: Erstellt ein Strukturelement der Form 'Würfel'.\n",
    "\n",
    "__[diamond()](https://scikit-image.org/docs/dev/api/skimage.morphology.html#skimage.morphology.diamond)__: Erstellt ein Strukturelement der Form 'Diamant'."
   ]
  }
 ],
 "metadata": {
  "kernelspec": {
   "display_name": "Python 3",
   "language": "python",
   "name": "python3"
  },
  "language_info": {
   "codemirror_mode": {
    "name": "ipython",
    "version": 3
   },
   "file_extension": ".py",
   "mimetype": "text/x-python",
   "name": "python",
   "nbconvert_exporter": "python",
   "pygments_lexer": "ipython3",
   "version": "3.7.6"
  }
 },
 "nbformat": 4,
 "nbformat_minor": 4
}
