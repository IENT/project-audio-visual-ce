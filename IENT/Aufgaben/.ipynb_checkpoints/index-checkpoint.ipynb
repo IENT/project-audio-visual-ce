{
 "cells": [
  {
   "cell_type": "markdown",
   "metadata": {},
   "source": [
    "<div>\r\n",
    "    <img src=\"http://www.ient.rwth-aachen.de/cms/uploads/images/rwth_ient_logo@2x.png\" style=\"float: right;height: 5em;\">\r\n",
    "</div>\r\n",
    "\r\n",
    "# Schülerprojekt - Audio-Visual Computer Engineering: (Handwritten) Digit Recognition\r\n",
    "Herzlich willkommen beim Schrifterkennungsprojekt!\r\n",
    "\r\n",
    "Wir möchten euch hier einen kleinen Einblick geben, wie ein Rechner Bilder verarbeitet und interpretiert. Die Erkennung von Buchstaben und Zahlen ist dafür ein gutes Beispiel.\r\n",
    "Im ersten Teil werden zunächst ein paar grundlegende Verarbeitungsschritte Ausprobiert die Bilder für die Erkennung mittells geometrischer Beschreibungen vorbereiten. \r\n",
    "Im Zweiten Teil kann mit einem lernenden Verfahren experimentiert werden.\r\n",
    "\r\n",
    "Beide Teile sind in Python programmiert. Alle benötigten Funktionen sind in der [__Befehlsreferenz__](Befehlsreferenz_Schueleruni.ipynb) aufgelistet.\r\n",
    "\r\n",
    "## Inhaltsverzeichnis\r\n",
    "\r\n",
    "\r\n",
    "* __Teil 1:__ [__Klassifizierung von Objekten durch Formmerkmale mittels klassischer und morphologischer Bildverarbeitung__](Teil_1.ipynb) <!--- Verwendung von Funktionen der Scikit-Image und Matplotlib-Python Bibliothek zur Bildverarbeitung -->\r\n",
    "* __Teil 2:__ [__Klassifizierung von Objekten mittels neuronalen Netzen am Beispiel von handschriftlichenlen__](Teil_2_old.ipynb)\r\n",
    "\r\n",
    "\r\n",
    "\r\n",
    "\r\n",
    "## Jupyter Quick Start\r\n",
    "\r\n",
    "* Zum Neustart: Kernel <span class=\"fa-chevron-right fa\"></span> Restart Kernel and Run up to Selected Cell\r\n",
    "* Zum Ausführen einer einzelnen Cell: <span class=\"fa-play fa\"></span> Run-Button"
   ]
  }
 ],
 "metadata": {
  "kernelspec": {
   "display_name": "Python 3",
   "language": "python",
   "name": "python3"
  },
  "language_info": {
   "codemirror_mode": {
    "name": "ipython",
    "version": 3
   },
   "file_extension": ".py",
   "mimetype": "text/x-python",
   "name": "python",
   "nbconvert_exporter": "python",
   "pygments_lexer": "ipython3",
   "version": "3.7.6"
  }
 },
 "nbformat": 4,
 "nbformat_minor": 4
}
