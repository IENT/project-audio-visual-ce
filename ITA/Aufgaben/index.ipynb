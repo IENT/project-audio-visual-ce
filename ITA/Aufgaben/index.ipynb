{
 "cells": [
  {
   "cell_type": "markdown",
   "metadata": {},
   "source": [
    "<div>\n",
    "    <img src=\"https://www.akustik.rwth-aachen.de/global/show_picture.asp?id=aaaaaaaaaahvhti\" style=\"float: right;height: 5em;\">\n",
    "</div>\n",
    "\n",
    "# Praktikumsaufgaben Versuch 5\n",
    "Dieser Versuch besteht aus einem Jupyter Notebook. Bearbeiten Sie diese in der vorgegebenen Reihenfolge und zeigen Sie Ihrem Betreuer die Ergebnisse zur Abnahme vor, wenn Sie das Notebook erfolgreich bearbeitet haben. Das Praktikum ist in Python programmiert und verwendet viele Funktionen aus numpy. Eine Einführung in die grundlegenden Funktionalitäten von numpy sind im [Numpy Quickstart Guide](https://numpy.org/doc/stable/user/quickstart.html) zu finden. \n",
    "Weitere benötigte Funktionen sind in den entsprechenden Aufgaben gegeben.\n",
    "\n",
    "## Inhaltsverzeichnis\n",
    "\n",
    "* __Teil 1:__ [__Statische Binauralsythese__](1_static_binaural_synthesis.ipynb)\n",
    "\n",
    "\n",
    "\n",
    "\n",
    "\n",
    "\n",
    "## Jupyter Quick Start\n",
    "\n",
    "* Zum Ausführen aller Cells eines Notebooks: Im Menü: Cell <span class=\"fa-chevron-right fa\"></span> Run All\n",
    "* Zum Neustart (und erneutem Ausführen): <span class=\"fa-forward fa\"></span>-Button\n",
    "* Zum Ausführen einer einzelnen Cell: __Shift + Enter__ oder <span class=\"fa-step-forward fa\"></span> Run-Button "
   ]
  }
 ],
 "metadata": {
  "kernelspec": {
   "display_name": "Python 3",
   "language": "python",
   "name": "python3"
  },
  "language_info": {
   "codemirror_mode": {
    "name": "ipython",
    "version": 3
   },
   "file_extension": ".py",
   "mimetype": "text/x-python",
   "name": "python",
   "nbconvert_exporter": "python",
   "pygments_lexer": "ipython3",
   "version": "3.7.6"
  }
 },
 "nbformat": 4,
 "nbformat_minor": 4
}